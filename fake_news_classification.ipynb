{
 "cells": [
  {
   "cell_type": "markdown",
   "id": "8d5dc0aa-ce31-476d-b4ed-fe01ec511211",
   "metadata": {},
   "source": [
    "<h1 style=\"text-align:center; font-size:2.5rem\">Fake News classification using NLP techniques</h1>"
   ]
  },
  {
   "cell_type": "markdown",
   "id": "b03919ff-27ba-4836-b04c-50ab853c8a35",
   "metadata": {},
   "source": [
    "# Problem Statement\n",
    "\n",
    "Imagine you are working for a social media company. The company is concerned with the growing amount of fake news circulatng on it's platform. They have assigned you to investigate how fake news can be recognized and create a method of identifying it. \n",
    "\n",
    "Let's work through this problem together, first by exploring and cleaning the data and then working to classify fake vs factual news stories. We'll also create some plots of our outputs and discuss how we would communicate our findings to stakeholders."
   ]
  },
  {
   "cell_type": "markdown",
   "id": "664dc0af-889e-4cb8-94db-fc48aa6d3edd",
   "metadata": {},
   "source": [
    "# Importing all necessary libraries"
   ]
  },
  {
   "cell_type": "code",
   "execution_count": 1,
   "id": "f7ab2d66-c102-4a53-bb4a-eadf100b3a25",
   "metadata": {},
   "outputs": [],
   "source": [
    "import re\n",
    "import pandas as pd\n",
    "import matplotlib.pyplot as plt\n",
    "import seaborn as sns\n",
    "import spacy\n",
    "from spacy import displacy\n",
    "from spacy import tokenizer\n",
    "import nltk\n",
    "from nltk.tokenize import word_tokenize\n",
    "from nltk.stem import PorterStemmer, WordNetLemmatizer\n",
    "from nltk.corpus import stopwords\n",
    "from vaderSentiment.vaderSentiment import SentimentIntensityAnalyzer\n",
    "import gensim\n",
    "import gensim.corpora as corpora\n",
    "from gensim.models.coherencemodel import CoherenceModel\n",
    "from gensim.models import LsiModel, TfidfModel\n",
    "from sklearn.feature_extraction.text import CountVectorizer, TfidfVectorizer\n",
    "from sklearn.model_selection import train_test_split\n",
    "from sklearn.linear_model import LogisticRegression, SGDClassifier\n",
    "from sklearn.metrics import accuracy_score, classification_report"
   ]
  },
  {
   "cell_type": "markdown",
   "id": "00964702-7d81-460f-929a-64b9c4e586f8",
   "metadata": {},
   "source": [
    "# Importing the dataset"
   ]
  },
  {
   "cell_type": "code",
   "execution_count": 2,
   "id": "90a86ea2-3f07-4d35-a7f7-6c9c148356ce",
   "metadata": {},
   "outputs": [],
   "source": [
    "data = pd.read_csv(\"fake_news_data.csv\")"
   ]
  },
  {
   "cell_type": "code",
   "execution_count": 3,
   "id": "a32fb684-c9eb-4866-9f95-84033791ccd3",
   "metadata": {},
   "outputs": [
    {
     "data": {
      "text/html": [
       "<div>\n",
       "<style scoped>\n",
       "    .dataframe tbody tr th:only-of-type {\n",
       "        vertical-align: middle;\n",
       "    }\n",
       "\n",
       "    .dataframe tbody tr th {\n",
       "        vertical-align: top;\n",
       "    }\n",
       "\n",
       "    .dataframe thead th {\n",
       "        text-align: right;\n",
       "    }\n",
       "</style>\n",
       "<table border=\"1\" class=\"dataframe\">\n",
       "  <thead>\n",
       "    <tr style=\"text-align: right;\">\n",
       "      <th></th>\n",
       "      <th>title</th>\n",
       "      <th>text</th>\n",
       "      <th>date</th>\n",
       "      <th>fake_or_factual</th>\n",
       "    </tr>\n",
       "  </thead>\n",
       "  <tbody>\n",
       "    <tr>\n",
       "      <th>0</th>\n",
       "      <td>HOLLYWEIRD LIB SUSAN SARANDON Compares Muslim ...</td>\n",
       "      <td>There are two small problems with your analogy...</td>\n",
       "      <td>Dec 30, 2015</td>\n",
       "      <td>Fake News</td>\n",
       "    </tr>\n",
       "    <tr>\n",
       "      <th>1</th>\n",
       "      <td>Elijah Cummings Called Trump Out To His Face ...</td>\n",
       "      <td>Buried in Trump s bonkers interview with New Y...</td>\n",
       "      <td>April 6, 2017</td>\n",
       "      <td>Fake News</td>\n",
       "    </tr>\n",
       "    <tr>\n",
       "      <th>2</th>\n",
       "      <td>Hillary Clinton Says Half Her Cabinet Will Be...</td>\n",
       "      <td>Women make up over 50 percent of this country,...</td>\n",
       "      <td>April 26, 2016</td>\n",
       "      <td>Fake News</td>\n",
       "    </tr>\n",
       "    <tr>\n",
       "      <th>3</th>\n",
       "      <td>Russian bombing of U.S.-backed forces being di...</td>\n",
       "      <td>WASHINGTON (Reuters) - U.S. Defense Secretary ...</td>\n",
       "      <td>September 18, 2017</td>\n",
       "      <td>Factual News</td>\n",
       "    </tr>\n",
       "    <tr>\n",
       "      <th>4</th>\n",
       "      <td>Britain says window to restore Northern Irelan...</td>\n",
       "      <td>BELFAST (Reuters) - Northern Ireland s politic...</td>\n",
       "      <td>September 4, 2017</td>\n",
       "      <td>Factual News</td>\n",
       "    </tr>\n",
       "  </tbody>\n",
       "</table>\n",
       "</div>"
      ],
      "text/plain": [
       "                                               title  \\\n",
       "0  HOLLYWEIRD LIB SUSAN SARANDON Compares Muslim ...   \n",
       "1   Elijah Cummings Called Trump Out To His Face ...   \n",
       "2   Hillary Clinton Says Half Her Cabinet Will Be...   \n",
       "3  Russian bombing of U.S.-backed forces being di...   \n",
       "4  Britain says window to restore Northern Irelan...   \n",
       "\n",
       "                                                text                 date  \\\n",
       "0  There are two small problems with your analogy...         Dec 30, 2015   \n",
       "1  Buried in Trump s bonkers interview with New Y...        April 6, 2017   \n",
       "2  Women make up over 50 percent of this country,...       April 26, 2016   \n",
       "3  WASHINGTON (Reuters) - U.S. Defense Secretary ...  September 18, 2017    \n",
       "4  BELFAST (Reuters) - Northern Ireland s politic...   September 4, 2017    \n",
       "\n",
       "  fake_or_factual  \n",
       "0       Fake News  \n",
       "1       Fake News  \n",
       "2       Fake News  \n",
       "3    Factual News  \n",
       "4    Factual News  "
      ]
     },
     "execution_count": 3,
     "metadata": {},
     "output_type": "execute_result"
    }
   ],
   "source": [
    "data.head()"
   ]
  },
  {
   "cell_type": "code",
   "execution_count": 4,
   "id": "0f049320-3f49-4424-934c-4d96947158ef",
   "metadata": {},
   "outputs": [
    {
     "name": "stdout",
     "output_type": "stream",
     "text": [
      "<class 'pandas.core.frame.DataFrame'>\n",
      "RangeIndex: 198 entries, 0 to 197\n",
      "Data columns (total 4 columns):\n",
      " #   Column           Non-Null Count  Dtype \n",
      "---  ------           --------------  ----- \n",
      " 0   title            198 non-null    object\n",
      " 1   text             198 non-null    object\n",
      " 2   date             198 non-null    object\n",
      " 3   fake_or_factual  198 non-null    object\n",
      "dtypes: object(4)\n",
      "memory usage: 6.3+ KB\n"
     ]
    }
   ],
   "source": [
    "data.info()"
   ]
  },
  {
   "cell_type": "markdown",
   "id": "14e069ce-d927-4f59-b856-76e9c1d7d5d9",
   "metadata": {},
   "source": [
    "We don't have any null values. Therefore, we can skip null value handling."
   ]
  },
  {
   "cell_type": "markdown",
   "id": "f34b5bbd-b6c3-4eda-9e3a-e2216f83733c",
   "metadata": {},
   "source": [
    "# Counting the categories\n",
    "\n",
    "We want to make sure the dataset has more or less the same number of records for all categories. We plot the count of classifications"
   ]
  },
  {
   "cell_type": "code",
   "execution_count": 5,
   "id": "e2f0ea89-8a6f-43f7-a57f-7cf15b39458a",
   "metadata": {},
   "outputs": [],
   "source": [
    "# The standard plot is 6.4 x 4.8. We want to increase its size to 8 x 6\n",
    "plt.rcParams['figure.figsize'] = [8, 6]\n",
    "default_plot_color = \"#00bfbf\""
   ]
  },
  {
   "cell_type": "code",
   "execution_count": 6,
   "id": "98e64cdc-5c81-4366-b2ba-e7feee6fdc03",
   "metadata": {},
   "outputs": [
    {
     "data": {
      "text/plain": [
       "Text(0.5, 1.0, 'Count of Article Classifications (fake/factual)')"
      ]
     },
     "execution_count": 6,
     "metadata": {},
     "output_type": "execute_result"
    },
    {
     "data": {
      "image/png": "[encoded data removed]",
      "text/plain": [
       "<Figure size 800x600 with 1 Axes>"
      ]
     },
     "metadata": {},
     "output_type": "display_data"
    }
   ],
   "source": [
    "data[\"fake_or_factual\"].value_counts().plot(kind=\"bar\", color=\"#00bfbf\")\n",
    "plt.title(\"Count of Article Classifications (fake/factual)\")"
   ]
  },
  {
   "cell_type": "markdown",
   "id": "ccdc38aa-7215-436d-a0e9-82af4339f116",
   "metadata": {},
   "source": [
    "These values are in ball-park range (i.e. similar number of records per category). So we should be good to go."
   ]
  },
  {
   "cell_type": "markdown",
   "id": "0a430e90-2118-4891-8899-d4f9aac950f2",
   "metadata": {},
   "source": [
    "# Parts Of Speech Tagging\n",
    "\n",
    "Extracting the POS tags from the fake news and factual news separately to identify what differences could be there in the POS tags. We will use SpaCy for this process."
   ]
  },
  {
   "cell_type": "code",
   "execution_count": 7,
   "id": "1b7a37a6-46b2-4df7-b7d2-165efb168dfb",
   "metadata": {},
   "outputs": [],
   "source": [
    "en_nlp = spacy.load(\"en_core_web_sm\")"
   ]
  },
  {
   "cell_type": "code",
   "execution_count": 8,
   "id": "8dcb06a4-bcca-4c6b-a572-a7fa43077e08",
   "metadata": {},
   "outputs": [],
   "source": [
    "fake_news = data[data['fake_or_factual'] == \"Fake News\"]\n",
    "fact_news = data[data['fake_or_factual'] == \"Factual News\"]"
   ]
  },
  {
   "cell_type": "code",
   "execution_count": 9,
   "id": "a4901482-9f35-4ee1-b332-30d780ac97ee",
   "metadata": {},
   "outputs": [],
   "source": [
    "fake_spacydocs = list(en_nlp.pipe(fake_news[\"text\"]))\n",
    "fact_spacydocs = list(en_nlp.pipe(fact_news[\"text\"]))"
   ]
  },
  {
   "cell_type": "code",
   "execution_count": 10,
   "id": "d0fc10f0-7dda-4e3b-b104-57ce3042e1fa",
   "metadata": {},
   "outputs": [],
   "source": [
    "def extract_token_tags(doc: spacy.tokens.doc.Doc):\n",
    "    return [(i.text, i.ent_type_, i.pos_) for i in doc]"
   ]
  },
  {
   "cell_type": "code",
   "execution_count": 11,
   "id": "decc3ac4-7ad4-444d-ab59-5c2bf459dd30",
   "metadata": {},
   "outputs": [],
   "source": [
    "fake_tags_df = []\n",
    "fact_tags_df = []\n",
    "columns = ['token', 'ner_tag', 'pos_tag']"
   ]
  },
  {
   "cell_type": "code",
   "execution_count": 12,
   "id": "057331c2-12d1-4979-b8be-413c177fd7ef",
   "metadata": {},
   "outputs": [],
   "source": [
    "for ix, doc in enumerate(fake_spacydocs):\n",
    "    tags = extract_token_tags(doc)\n",
    "    tags = pd.DataFrame(tags)\n",
    "    tags.columns = columns\n",
    "    fake_tags_df.append(tags)\n",
    "fake_tags_df = pd.concat(fake_tags_df)"
   ]
  },
  {
   "cell_type": "code",
   "execution_count": 13,
   "id": "5250ff79-b509-4b9d-ba97-56035b421b48",
   "metadata": {},
   "outputs": [],
   "source": [
    "for ix, doc in enumerate(fact_spacydocs):\n",
    "    tags = extract_token_tags(doc)\n",
    "    tags = pd.DataFrame(tags)\n",
    "    tags.columns = columns\n",
    "    fact_tags_df.append(tags)\n",
    "fact_tags_df = pd.concat(fact_tags_df)"
   ]
  },
  {
   "cell_type": "code",
   "execution_count": 14,
   "id": "8e039ffe-e78b-431d-9a35-f23049dc9eec",
   "metadata": {},
   "outputs": [
    {
     "data": {
      "text/html": [
       "<div>\n",
       "<style scoped>\n",
       "    .dataframe tbody tr th:only-of-type {\n",
       "        vertical-align: middle;\n",
       "    }\n",
       "\n",
       "    .dataframe tbody tr th {\n",
       "        vertical-align: top;\n",
       "    }\n",
       "\n",
       "    .dataframe thead th {\n",
       "        text-align: right;\n",
       "    }\n",
       "</style>\n",
       "<table border=\"1\" class=\"dataframe\">\n",
       "  <thead>\n",
       "    <tr style=\"text-align: right;\">\n",
       "      <th></th>\n",
       "      <th>token</th>\n",
       "      <th>ner_tag</th>\n",
       "      <th>pos_tag</th>\n",
       "    </tr>\n",
       "  </thead>\n",
       "  <tbody>\n",
       "    <tr>\n",
       "      <th>0</th>\n",
       "      <td>There</td>\n",
       "      <td></td>\n",
       "      <td>PRON</td>\n",
       "    </tr>\n",
       "    <tr>\n",
       "      <th>1</th>\n",
       "      <td>are</td>\n",
       "      <td></td>\n",
       "      <td>VERB</td>\n",
       "    </tr>\n",
       "    <tr>\n",
       "      <th>2</th>\n",
       "      <td>two</td>\n",
       "      <td>CARDINAL</td>\n",
       "      <td>NUM</td>\n",
       "    </tr>\n",
       "    <tr>\n",
       "      <th>3</th>\n",
       "      <td>small</td>\n",
       "      <td></td>\n",
       "      <td>ADJ</td>\n",
       "    </tr>\n",
       "    <tr>\n",
       "      <th>4</th>\n",
       "      <td>problems</td>\n",
       "      <td></td>\n",
       "      <td>NOUN</td>\n",
       "    </tr>\n",
       "  </tbody>\n",
       "</table>\n",
       "</div>"
      ],
      "text/plain": [
       "      token   ner_tag pos_tag\n",
       "0     There              PRON\n",
       "1       are              VERB\n",
       "2       two  CARDINAL     NUM\n",
       "3     small               ADJ\n",
       "4  problems              NOUN"
      ]
     },
     "execution_count": 14,
     "metadata": {},
     "output_type": "execute_result"
    }
   ],
   "source": [
    "fake_tags_df.head()"
   ]
  },
  {
   "cell_type": "code",
   "execution_count": 15,
   "id": "90af4b7f-cc0f-4d1f-b66a-dfb294a95d9c",
   "metadata": {},
   "outputs": [
    {
     "data": {
      "text/html": [
       "<div>\n",
       "<style scoped>\n",
       "    .dataframe tbody tr th:only-of-type {\n",
       "        vertical-align: middle;\n",
       "    }\n",
       "\n",
       "    .dataframe tbody tr th {\n",
       "        vertical-align: top;\n",
       "    }\n",
       "\n",
       "    .dataframe thead th {\n",
       "        text-align: right;\n",
       "    }\n",
       "</style>\n",
       "<table border=\"1\" class=\"dataframe\">\n",
       "  <thead>\n",
       "    <tr style=\"text-align: right;\">\n",
       "      <th></th>\n",
       "      <th>token</th>\n",
       "      <th>pos_tag</th>\n",
       "      <th>counts</th>\n",
       "    </tr>\n",
       "  </thead>\n",
       "  <tbody>\n",
       "    <tr>\n",
       "      <th>29</th>\n",
       "      <td>,</td>\n",
       "      <td>PUNCT</td>\n",
       "      <td>1908</td>\n",
       "    </tr>\n",
       "    <tr>\n",
       "      <th>7451</th>\n",
       "      <td>the</td>\n",
       "      <td>DET</td>\n",
       "      <td>1834</td>\n",
       "    </tr>\n",
       "    <tr>\n",
       "      <th>41</th>\n",
       "      <td>.</td>\n",
       "      <td>PUNCT</td>\n",
       "      <td>1530</td>\n",
       "    </tr>\n",
       "    <tr>\n",
       "      <th>5766</th>\n",
       "      <td>of</td>\n",
       "      <td>ADP</td>\n",
       "      <td>922</td>\n",
       "    </tr>\n",
       "    <tr>\n",
       "      <th>2665</th>\n",
       "      <td>and</td>\n",
       "      <td>CCONJ</td>\n",
       "      <td>875</td>\n",
       "    </tr>\n",
       "    <tr>\n",
       "      <th>2449</th>\n",
       "      <td>a</td>\n",
       "      <td>DET</td>\n",
       "      <td>805</td>\n",
       "    </tr>\n",
       "    <tr>\n",
       "      <th>0</th>\n",
       "      <td></td>\n",
       "      <td>SPACE</td>\n",
       "      <td>795</td>\n",
       "    </tr>\n",
       "    <tr>\n",
       "      <th>7528</th>\n",
       "      <td>to</td>\n",
       "      <td>PART</td>\n",
       "      <td>767</td>\n",
       "    </tr>\n",
       "    <tr>\n",
       "      <th>4921</th>\n",
       "      <td>in</td>\n",
       "      <td>ADP</td>\n",
       "      <td>668</td>\n",
       "    </tr>\n",
       "    <tr>\n",
       "      <th>5099</th>\n",
       "      <td>is</td>\n",
       "      <td>AUX</td>\n",
       "      <td>419</td>\n",
       "    </tr>\n",
       "  </tbody>\n",
       "</table>\n",
       "</div>"
      ],
      "text/plain": [
       "     token pos_tag  counts\n",
       "29       ,   PUNCT    1908\n",
       "7451   the     DET    1834\n",
       "41       .   PUNCT    1530\n",
       "5766    of     ADP     922\n",
       "2665   and   CCONJ     875\n",
       "2449     a     DET     805\n",
       "0            SPACE     795\n",
       "7528    to    PART     767\n",
       "4921    in     ADP     668\n",
       "5099    is     AUX     419"
      ]
     },
     "execution_count": 15,
     "metadata": {},
     "output_type": "execute_result"
    }
   ],
   "source": [
    "pos_counts_fake = fake_tags_df.groupby([\"token\", \"pos_tag\"]).size().reset_index(name=\"counts\").sort_values(by=\"counts\", ascending=False)\n",
    "pos_counts_fake.head(10)"
   ]
  },
  {
   "cell_type": "code",
   "execution_count": 16,
   "id": "7b14b81b-0638-4bdd-a8a8-4561c4c09512",
   "metadata": {},
   "outputs": [
    {
     "data": {
      "text/html": [
       "<div>\n",
       "<style scoped>\n",
       "    .dataframe tbody tr th:only-of-type {\n",
       "        vertical-align: middle;\n",
       "    }\n",
       "\n",
       "    .dataframe tbody tr th {\n",
       "        vertical-align: top;\n",
       "    }\n",
       "\n",
       "    .dataframe thead th {\n",
       "        text-align: right;\n",
       "    }\n",
       "</style>\n",
       "<table border=\"1\" class=\"dataframe\">\n",
       "  <thead>\n",
       "    <tr style=\"text-align: right;\">\n",
       "      <th></th>\n",
       "      <th>token</th>\n",
       "      <th>pos_tag</th>\n",
       "      <th>counts</th>\n",
       "    </tr>\n",
       "  </thead>\n",
       "  <tbody>\n",
       "    <tr>\n",
       "      <th>6145</th>\n",
       "      <td>the</td>\n",
       "      <td>DET</td>\n",
       "      <td>1903</td>\n",
       "    </tr>\n",
       "    <tr>\n",
       "      <th>14</th>\n",
       "      <td>,</td>\n",
       "      <td>PUNCT</td>\n",
       "      <td>1698</td>\n",
       "    </tr>\n",
       "    <tr>\n",
       "      <th>21</th>\n",
       "      <td>.</td>\n",
       "      <td>PUNCT</td>\n",
       "      <td>1382</td>\n",
       "    </tr>\n",
       "    <tr>\n",
       "      <th>4716</th>\n",
       "      <td>of</td>\n",
       "      <td>ADP</td>\n",
       "      <td>884</td>\n",
       "    </tr>\n",
       "    <tr>\n",
       "      <th>1898</th>\n",
       "      <td>a</td>\n",
       "      <td>DET</td>\n",
       "      <td>789</td>\n",
       "    </tr>\n",
       "    <tr>\n",
       "      <th>2093</th>\n",
       "      <td>and</td>\n",
       "      <td>CCONJ</td>\n",
       "      <td>757</td>\n",
       "    </tr>\n",
       "    <tr>\n",
       "      <th>4005</th>\n",
       "      <td>in</td>\n",
       "      <td>ADP</td>\n",
       "      <td>671</td>\n",
       "    </tr>\n",
       "    <tr>\n",
       "      <th>6205</th>\n",
       "      <td>to</td>\n",
       "      <td>PART</td>\n",
       "      <td>660</td>\n",
       "    </tr>\n",
       "    <tr>\n",
       "      <th>4743</th>\n",
       "      <td>on</td>\n",
       "      <td>ADP</td>\n",
       "      <td>482</td>\n",
       "    </tr>\n",
       "    <tr>\n",
       "      <th>5567</th>\n",
       "      <td>said</td>\n",
       "      <td>VERB</td>\n",
       "      <td>451</td>\n",
       "    </tr>\n",
       "  </tbody>\n",
       "</table>\n",
       "</div>"
      ],
      "text/plain": [
       "     token pos_tag  counts\n",
       "6145   the     DET    1903\n",
       "14       ,   PUNCT    1698\n",
       "21       .   PUNCT    1382\n",
       "4716    of     ADP     884\n",
       "1898     a     DET     789\n",
       "2093   and   CCONJ     757\n",
       "4005    in     ADP     671\n",
       "6205    to    PART     660\n",
       "4743    on     ADP     482\n",
       "5567  said    VERB     451"
      ]
     },
     "execution_count": 16,
     "metadata": {},
     "output_type": "execute_result"
    }
   ],
   "source": [
    "pos_counts_fact = fact_tags_df.groupby([\"token\", \"pos_tag\"]).size().reset_index(name=\"counts\").sort_values(by=\"counts\", ascending=False)\n",
    "pos_counts_fact.head(10)"
   ]
  },
  {
   "cell_type": "markdown",
   "id": "80de2577-260b-4ee1-a141-7acd2abead7c",
   "metadata": {},
   "source": [
    "We haven't cleaned this data yet, hence we are seeing stop words and punctuation marks on top of the list."
   ]
  },
  {
   "cell_type": "code",
   "execution_count": 17,
   "id": "510cb86f-fc47-4dda-9b13-b106ded383d0",
   "metadata": {},
   "outputs": [
    {
     "data": {
      "text/plain": [
       "pos_tag\n",
       "NOUN     7799\n",
       "PROPN    5337\n",
       "VERB     5281\n",
       "ADP      4533\n",
       "PUNCT    4301\n",
       "DET      3560\n",
       "PRON     3119\n",
       "ADJ      2710\n",
       "AUX      2155\n",
       "ADV      1672\n",
       "Name: token, dtype: int64"
      ]
     },
     "execution_count": 17,
     "metadata": {},
     "output_type": "execute_result"
    }
   ],
   "source": [
    "fake_tags_df.groupby(\"pos_tag\")[\"token\"].count().sort_values(ascending=False).head(10)"
   ]
  },
  {
   "cell_type": "code",
   "execution_count": 18,
   "id": "808a32fe-12c8-4a95-9cc5-ad91e8c30fd7",
   "metadata": {},
   "outputs": [
    {
     "data": {
      "text/plain": [
       "pos_tag\n",
       "NOUN     7288\n",
       "PROPN    5187\n",
       "VERB     4516\n",
       "PUNCT    4436\n",
       "ADP      4353\n",
       "DET      3463\n",
       "ADJ      2540\n",
       "AUX      1838\n",
       "PRON     1804\n",
       "PART     1219\n",
       "Name: token, dtype: int64"
      ]
     },
     "execution_count": 18,
     "metadata": {},
     "output_type": "execute_result"
    }
   ],
   "source": [
    "fact_tags_df.groupby(\"pos_tag\")[\"token\"].count().sort_values(ascending=False).head(10)"
   ]
  },
  {
   "cell_type": "markdown",
   "id": "2a8038cd-7500-4740-9487-3db0cd7530c8",
   "metadata": {},
   "source": [
    "Both fake and factual datasets have nouns, proper nouns and verbs as the top parts of speech tags."
   ]
  },
  {
   "cell_type": "code",
   "execution_count": 19,
   "id": "a0eda5dd-8320-449b-b1c8-83f0e4692b7c",
   "metadata": {},
   "outputs": [
    {
     "data": {
      "text/html": [
       "<div>\n",
       "<style scoped>\n",
       "    .dataframe tbody tr th:only-of-type {\n",
       "        vertical-align: middle;\n",
       "    }\n",
       "\n",
       "    .dataframe tbody tr th {\n",
       "        vertical-align: top;\n",
       "    }\n",
       "\n",
       "    .dataframe thead th {\n",
       "        text-align: right;\n",
       "    }\n",
       "</style>\n",
       "<table border=\"1\" class=\"dataframe\">\n",
       "  <thead>\n",
       "    <tr style=\"text-align: right;\">\n",
       "      <th></th>\n",
       "      <th>token</th>\n",
       "      <th>pos_tag</th>\n",
       "      <th>counts</th>\n",
       "    </tr>\n",
       "  </thead>\n",
       "  <tbody>\n",
       "    <tr>\n",
       "      <th>5981</th>\n",
       "      <td>people</td>\n",
       "      <td>NOUN</td>\n",
       "      <td>77</td>\n",
       "    </tr>\n",
       "    <tr>\n",
       "      <th>7349</th>\n",
       "      <td>t</td>\n",
       "      <td>NOUN</td>\n",
       "      <td>65</td>\n",
       "    </tr>\n",
       "    <tr>\n",
       "      <th>6216</th>\n",
       "      <td>president</td>\n",
       "      <td>NOUN</td>\n",
       "      <td>58</td>\n",
       "    </tr>\n",
       "    <tr>\n",
       "      <th>7960</th>\n",
       "      <td>women</td>\n",
       "      <td>NOUN</td>\n",
       "      <td>55</td>\n",
       "    </tr>\n",
       "    <tr>\n",
       "      <th>7516</th>\n",
       "      <td>time</td>\n",
       "      <td>NOUN</td>\n",
       "      <td>52</td>\n",
       "    </tr>\n",
       "    <tr>\n",
       "      <th>3138</th>\n",
       "      <td>campaign</td>\n",
       "      <td>NOUN</td>\n",
       "      <td>44</td>\n",
       "    </tr>\n",
       "    <tr>\n",
       "      <th>8011</th>\n",
       "      <td>year</td>\n",
       "      <td>NOUN</td>\n",
       "      <td>44</td>\n",
       "    </tr>\n",
       "    <tr>\n",
       "      <th>4581</th>\n",
       "      <td>government</td>\n",
       "      <td>NOUN</td>\n",
       "      <td>41</td>\n",
       "    </tr>\n",
       "    <tr>\n",
       "      <th>5213</th>\n",
       "      <td>law</td>\n",
       "      <td>NOUN</td>\n",
       "      <td>40</td>\n",
       "    </tr>\n",
       "    <tr>\n",
       "      <th>8013</th>\n",
       "      <td>years</td>\n",
       "      <td>NOUN</td>\n",
       "      <td>40</td>\n",
       "    </tr>\n",
       "    <tr>\n",
       "      <th>7165</th>\n",
       "      <td>state</td>\n",
       "      <td>NOUN</td>\n",
       "      <td>38</td>\n",
       "    </tr>\n",
       "    <tr>\n",
       "      <th>4012</th>\n",
       "      <td>election</td>\n",
       "      <td>NOUN</td>\n",
       "      <td>37</td>\n",
       "    </tr>\n",
       "    <tr>\n",
       "      <th>3643</th>\n",
       "      <td>day</td>\n",
       "      <td>NOUN</td>\n",
       "      <td>35</td>\n",
       "    </tr>\n",
       "    <tr>\n",
       "      <th>5482</th>\n",
       "      <td>media</td>\n",
       "      <td>NOUN</td>\n",
       "      <td>35</td>\n",
       "    </tr>\n",
       "    <tr>\n",
       "      <th>3538</th>\n",
       "      <td>country</td>\n",
       "      <td>NOUN</td>\n",
       "      <td>33</td>\n",
       "    </tr>\n",
       "  </tbody>\n",
       "</table>\n",
       "</div>"
      ],
      "text/plain": [
       "           token pos_tag  counts\n",
       "5981      people    NOUN      77\n",
       "7349           t    NOUN      65\n",
       "6216   president    NOUN      58\n",
       "7960       women    NOUN      55\n",
       "7516        time    NOUN      52\n",
       "3138    campaign    NOUN      44\n",
       "8011        year    NOUN      44\n",
       "4581  government    NOUN      41\n",
       "5213         law    NOUN      40\n",
       "8013       years    NOUN      40\n",
       "7165       state    NOUN      38\n",
       "4012    election    NOUN      37\n",
       "3643         day    NOUN      35\n",
       "5482       media    NOUN      35\n",
       "3538     country    NOUN      33"
      ]
     },
     "execution_count": 19,
     "metadata": {},
     "output_type": "execute_result"
    }
   ],
   "source": [
    "pos_counts_fake[pos_counts_fake.pos_tag == \"NOUN\"][:15]"
   ]
  },
  {
   "cell_type": "code",
   "execution_count": 20,
   "id": "9e925082-c075-4d69-91ce-0d327338ef41",
   "metadata": {},
   "outputs": [
    {
     "data": {
      "text/html": [
       "<div>\n",
       "<style scoped>\n",
       "    .dataframe tbody tr th:only-of-type {\n",
       "        vertical-align: middle;\n",
       "    }\n",
       "\n",
       "    .dataframe tbody tr th {\n",
       "        vertical-align: top;\n",
       "    }\n",
       "\n",
       "    .dataframe thead th {\n",
       "        text-align: right;\n",
       "    }\n",
       "</style>\n",
       "<table border=\"1\" class=\"dataframe\">\n",
       "  <thead>\n",
       "    <tr style=\"text-align: right;\">\n",
       "      <th></th>\n",
       "      <th>token</th>\n",
       "      <th>pos_tag</th>\n",
       "      <th>counts</th>\n",
       "    </tr>\n",
       "  </thead>\n",
       "  <tbody>\n",
       "    <tr>\n",
       "      <th>3738</th>\n",
       "      <td>government</td>\n",
       "      <td>NOUN</td>\n",
       "      <td>71</td>\n",
       "    </tr>\n",
       "    <tr>\n",
       "      <th>6618</th>\n",
       "      <td>year</td>\n",
       "      <td>NOUN</td>\n",
       "      <td>64</td>\n",
       "    </tr>\n",
       "    <tr>\n",
       "      <th>5901</th>\n",
       "      <td>state</td>\n",
       "      <td>NOUN</td>\n",
       "      <td>57</td>\n",
       "    </tr>\n",
       "    <tr>\n",
       "      <th>2360</th>\n",
       "      <td>bill</td>\n",
       "      <td>NOUN</td>\n",
       "      <td>55</td>\n",
       "    </tr>\n",
       "    <tr>\n",
       "      <th>1975</th>\n",
       "      <td>administration</td>\n",
       "      <td>NOUN</td>\n",
       "      <td>51</td>\n",
       "    </tr>\n",
       "    <tr>\n",
       "      <th>5066</th>\n",
       "      <td>president</td>\n",
       "      <td>NOUN</td>\n",
       "      <td>49</td>\n",
       "    </tr>\n",
       "    <tr>\n",
       "      <th>3277</th>\n",
       "      <td>election</td>\n",
       "      <td>NOUN</td>\n",
       "      <td>48</td>\n",
       "    </tr>\n",
       "    <tr>\n",
       "      <th>4919</th>\n",
       "      <td>people</td>\n",
       "      <td>NOUN</td>\n",
       "      <td>45</td>\n",
       "    </tr>\n",
       "    <tr>\n",
       "      <th>4786</th>\n",
       "      <td>order</td>\n",
       "      <td>NOUN</td>\n",
       "      <td>45</td>\n",
       "    </tr>\n",
       "    <tr>\n",
       "      <th>4259</th>\n",
       "      <td>law</td>\n",
       "      <td>NOUN</td>\n",
       "      <td>42</td>\n",
       "    </tr>\n",
       "    <tr>\n",
       "      <th>2497</th>\n",
       "      <td>campaign</td>\n",
       "      <td>NOUN</td>\n",
       "      <td>42</td>\n",
       "    </tr>\n",
       "    <tr>\n",
       "      <th>6095</th>\n",
       "      <td>tax</td>\n",
       "      <td>NOUN</td>\n",
       "      <td>39</td>\n",
       "    </tr>\n",
       "    <tr>\n",
       "      <th>5396</th>\n",
       "      <td>reporters</td>\n",
       "      <td>NOUN</td>\n",
       "      <td>38</td>\n",
       "    </tr>\n",
       "    <tr>\n",
       "      <th>5905</th>\n",
       "      <td>statement</td>\n",
       "      <td>NOUN</td>\n",
       "      <td>37</td>\n",
       "    </tr>\n",
       "    <tr>\n",
       "      <th>2873</th>\n",
       "      <td>court</td>\n",
       "      <td>NOUN</td>\n",
       "      <td>37</td>\n",
       "    </tr>\n",
       "  </tbody>\n",
       "</table>\n",
       "</div>"
      ],
      "text/plain": [
       "               token pos_tag  counts\n",
       "3738      government    NOUN      71\n",
       "6618            year    NOUN      64\n",
       "5901           state    NOUN      57\n",
       "2360            bill    NOUN      55\n",
       "1975  administration    NOUN      51\n",
       "5066       president    NOUN      49\n",
       "3277        election    NOUN      48\n",
       "4919          people    NOUN      45\n",
       "4786           order    NOUN      45\n",
       "4259             law    NOUN      42\n",
       "2497        campaign    NOUN      42\n",
       "6095             tax    NOUN      39\n",
       "5396       reporters    NOUN      38\n",
       "5905       statement    NOUN      37\n",
       "2873           court    NOUN      37"
      ]
     },
     "execution_count": 20,
     "metadata": {},
     "output_type": "execute_result"
    }
   ],
   "source": [
    "pos_counts_fact[pos_counts_fact.pos_tag == \"NOUN\"][:15]"
   ]
  },
  {
   "cell_type": "markdown",
   "id": "9beb8778-24ee-459c-9d69-e0515ac6ee01",
   "metadata": {},
   "source": [
    "Factual news has more of government-related nouns while fake news has more of general words, i.e., people are on top of the list and refers to people in general.\n",
    "\n",
    "We then want to check what the differences in their named entities are."
   ]
  },
  {
   "cell_type": "markdown",
   "id": "e3d6f673-2f58-4c1a-9038-a1aeb3492a16",
   "metadata": {},
   "source": [
    "# Named Entities"
   ]
  },
  {
   "cell_type": "code",
   "execution_count": 21,
   "id": "26a36af0-cb72-455c-b2e5-25f219fef9f5",
   "metadata": {},
   "outputs": [],
   "source": [
    "top_entities_fake = fake_tags_df[fake_tags_df[\"ner_tag\"] != \"\"]\\\n",
    "    .groupby([\"token\", \"ner_tag\"])\\\n",
    "    .size()\\\n",
    "    .reset_index(name=\"counts\")\\\n",
    "    .sort_values(by=\"counts\", ascending=False)"
   ]
  },
  {
   "cell_type": "code",
   "execution_count": 22,
   "id": "9773df9d-493d-4461-b783-5c173cfa26e4",
   "metadata": {},
   "outputs": [],
   "source": [
    "top_entities_fact = fact_tags_df[fact_tags_df[\"ner_tag\"] != \"\"]\\\n",
    "    .groupby([\"token\", \"ner_tag\"])\\\n",
    "    .size()\\\n",
    "    .reset_index(name=\"counts\")\\\n",
    "    .sort_values(by=\"counts\", ascending=False)"
   ]
  },
  {
   "cell_type": "code",
   "execution_count": 23,
   "id": "67a3d36d-8a85-44c8-93f1-5efde48c813c",
   "metadata": {},
   "outputs": [],
   "source": [
    "ner_palette = {\n",
    "    'ORG': sns.color_palette(\"Set2\").as_hex()[0],\n",
    "    'GPE': sns.color_palette(\"Set2\").as_hex()[1],\n",
    "    'NORP': sns.color_palette(\"Set2\").as_hex()[2],\n",
    "    'PERSON': sns.color_palette(\"Set2\").as_hex()[3],\n",
    "    'DATE': sns.color_palette(\"Set2\").as_hex()[4],\n",
    "    'CARDINAL': sns.color_palette(\"Set2\").as_hex()[5],\n",
    "    'PERCENT': sns.color_palette(\"Set2\").as_hex()[6]\n",
    "}"
   ]
  },
  {
   "cell_type": "code",
   "execution_count": 24,
   "id": "7ea28cd0-b4ae-422a-9479-15825b4ede93",
   "metadata": {},
   "outputs": [
    {
     "data": {
      "text/plain": [
       "[Text(0.5, 1.0, 'Most common named entities in fake news')]"
      ]
     },
     "execution_count": 24,
     "metadata": {},
     "output_type": "execute_result"
    },
    {
     "data": {
      "image/png": "[encoded data removed]",
      "text/plain": [
       "<Figure size 800x600 with 1 Axes>"
      ]
     },
     "metadata": {},
     "output_type": "display_data"
    }
   ],
   "source": [
    "sns.barplot(\n",
    "    x = 'counts',\n",
    "    y = 'token',\n",
    "    hue = 'ner_tag',\n",
    "    palette = ner_palette,\n",
    "    data = top_entities_fake[:10],\n",
    "    orient='h',\n",
    "    dodge=False\n",
    ").set(title=\"Most common named entities in fake news\")"
   ]
  },
  {
   "cell_type": "code",
   "execution_count": 25,
   "id": "fbc5d944-f92f-404f-8d6c-c264bdb0129f",
   "metadata": {},
   "outputs": [
    {
     "data": {
      "text/plain": [
       "[Text(0.5, 1.0, 'Most common named entities in factual news')]"
      ]
     },
     "execution_count": 25,
     "metadata": {},
     "output_type": "execute_result"
    },
    {
     "data": {
      "image/png": "[encoded data removed]",
      "text/plain": [
       "<Figure size 800x600 with 1 Axes>"
      ]
     },
     "metadata": {},
     "output_type": "display_data"
    }
   ],
   "source": [
    "sns.barplot(\n",
    "    x = 'counts',\n",
    "    y = 'token',\n",
    "    hue = 'ner_tag',\n",
    "    palette = ner_palette,\n",
    "    data = top_entities_fact[:10],\n",
    "    orient='h',\n",
    "    dodge=False\n",
    ").set(title=\"Most common named entities in factual news\")"
   ]
  },
  {
   "cell_type": "markdown",
   "id": "2d99398f-e74f-4011-8670-e05d7c533e5d",
   "metadata": {},
   "source": [
    "We have obtained the following insights:\n",
    "\n",
    "1. Factual news may have more to do with organizations while fake news may have more to do with people (according to the classifier)"
   ]
  },
  {
   "cell_type": "markdown",
   "id": "0b59cb4a-df53-4a97-9f88-13f3fffd1ba2",
   "metadata": {},
   "source": [
    "# Text pre-processing\n",
    "\n",
    "1. Converting to lower-case\n",
    "2. Removing the stop words and punctuation\n",
    "3. Tokenize the text\n",
    "4. Stemming/Lemmatization of the text. Lemmatization provides more context than stemming hence I prefer it."
   ]
  },
  {
   "cell_type": "code",
   "execution_count": 26,
   "id": "1ccd7ba8-170e-485e-ba16-baac6fa87bff",
   "metadata": {},
   "outputs": [
    {
     "data": {
      "text/html": [
       "<div>\n",
       "<style scoped>\n",
       "    .dataframe tbody tr th:only-of-type {\n",
       "        vertical-align: middle;\n",
       "    }\n",
       "\n",
       "    .dataframe tbody tr th {\n",
       "        vertical-align: top;\n",
       "    }\n",
       "\n",
       "    .dataframe thead th {\n",
       "        text-align: right;\n",
       "    }\n",
       "</style>\n",
       "<table border=\"1\" class=\"dataframe\">\n",
       "  <thead>\n",
       "    <tr style=\"text-align: right;\">\n",
       "      <th></th>\n",
       "      <th>title</th>\n",
       "      <th>text</th>\n",
       "      <th>date</th>\n",
       "      <th>fake_or_factual</th>\n",
       "    </tr>\n",
       "  </thead>\n",
       "  <tbody>\n",
       "    <tr>\n",
       "      <th>0</th>\n",
       "      <td>HOLLYWEIRD LIB SUSAN SARANDON Compares Muslim ...</td>\n",
       "      <td>There are two small problems with your analogy...</td>\n",
       "      <td>Dec 30, 2015</td>\n",
       "      <td>Fake News</td>\n",
       "    </tr>\n",
       "    <tr>\n",
       "      <th>1</th>\n",
       "      <td>Elijah Cummings Called Trump Out To His Face ...</td>\n",
       "      <td>Buried in Trump s bonkers interview with New Y...</td>\n",
       "      <td>April 6, 2017</td>\n",
       "      <td>Fake News</td>\n",
       "    </tr>\n",
       "    <tr>\n",
       "      <th>2</th>\n",
       "      <td>Hillary Clinton Says Half Her Cabinet Will Be...</td>\n",
       "      <td>Women make up over 50 percent of this country,...</td>\n",
       "      <td>April 26, 2016</td>\n",
       "      <td>Fake News</td>\n",
       "    </tr>\n",
       "    <tr>\n",
       "      <th>3</th>\n",
       "      <td>Russian bombing of U.S.-backed forces being di...</td>\n",
       "      <td>WASHINGTON (Reuters) - U.S. Defense Secretary ...</td>\n",
       "      <td>September 18, 2017</td>\n",
       "      <td>Factual News</td>\n",
       "    </tr>\n",
       "    <tr>\n",
       "      <th>4</th>\n",
       "      <td>Britain says window to restore Northern Irelan...</td>\n",
       "      <td>BELFAST (Reuters) - Northern Ireland s politic...</td>\n",
       "      <td>September 4, 2017</td>\n",
       "      <td>Factual News</td>\n",
       "    </tr>\n",
       "  </tbody>\n",
       "</table>\n",
       "</div>"
      ],
      "text/plain": [
       "                                               title  \\\n",
       "0  HOLLYWEIRD LIB SUSAN SARANDON Compares Muslim ...   \n",
       "1   Elijah Cummings Called Trump Out To His Face ...   \n",
       "2   Hillary Clinton Says Half Her Cabinet Will Be...   \n",
       "3  Russian bombing of U.S.-backed forces being di...   \n",
       "4  Britain says window to restore Northern Irelan...   \n",
       "\n",
       "                                                text                 date  \\\n",
       "0  There are two small problems with your analogy...         Dec 30, 2015   \n",
       "1  Buried in Trump s bonkers interview with New Y...        April 6, 2017   \n",
       "2  Women make up over 50 percent of this country,...       April 26, 2016   \n",
       "3  WASHINGTON (Reuters) - U.S. Defense Secretary ...  September 18, 2017    \n",
       "4  BELFAST (Reuters) - Northern Ireland s politic...   September 4, 2017    \n",
       "\n",
       "  fake_or_factual  \n",
       "0       Fake News  \n",
       "1       Fake News  \n",
       "2       Fake News  \n",
       "3    Factual News  \n",
       "4    Factual News  "
      ]
     },
     "execution_count": 26,
     "metadata": {},
     "output_type": "execute_result"
    }
   ],
   "source": [
    "data.head()"
   ]
  },
  {
   "cell_type": "markdown",
   "id": "c370f481-ed30-4ea5-91d1-6f6f5f342144",
   "metadata": {},
   "source": [
    "One observation in this dataset is that factual news starts with the reporting place and news agency. Hence, we could say that anything without these two could be fake news just by looking at the dataset.\n",
    "\n",
    "Some factual news snippets may not contain this in some other datasets. Or more likely some fake news snippets may contain random places and news agencies. Hence, we can choose not to include this portion in pre-processing.\n",
    "\n",
    "Furthermore, these two can influence the model further and impact the outcomes. Hence, we have chosen to remove this portion by scanning the following regular expression: \n",
    "\n",
    "`^[^-]*-\\s`.\n",
    "\n",
    "which translates to:\n",
    "\n",
    "` is not (contains any number of non-hyphenated characters followed by a hyphen followed by a whitespace) `\n",
    "\n",
    "- `^`: is not\n",
    "- `[^-]`: square brackets indicate group of words. So this indicates any character that is not a hyphen.\n",
    "- `*`: any number of. For example, `[a-z]*` indicates any number of lowerspace characters.\n",
    "- `\\s`: whitespace"
   ]
  },
  {
   "cell_type": "code",
   "execution_count": 27,
   "id": "f5e9cd0f-56f6-4aa6-930a-cc87decbb7b1",
   "metadata": {},
   "outputs": [],
   "source": [
    "data[\"text_without_prefixes\"] = data.apply(lambda x: re.sub(r\"^[^-]*-\\s\", \"\", x['text']), axis=1)"
   ]
  },
  {
   "cell_type": "code",
   "execution_count": 28,
   "id": "a931f732-aed4-4144-b909-bd170f8406bd",
   "metadata": {},
   "outputs": [],
   "source": [
    "data[\"lower\"] = data[\"text_without_prefixes\"].str.lower()"
   ]
  },
  {
   "cell_type": "code",
   "execution_count": 29,
   "id": "ce7a1a1b-5e52-42d0-8a73-a5a0ca4bb716",
   "metadata": {},
   "outputs": [],
   "source": [
    "try:\n",
    "    en_stopwords = stopwords.words(\"english\")\n",
    "except LookupError:\n",
    "    nltk.download(\"stopwords\")\n",
    "    en_stopwords = stopwords.words(\"english\")\n",
    "data[\"no_stop\"] = data[\"lower\"].apply(lambda x: ' '.join(word for word in x.split() if word not in en_stopwords))"
   ]
  },
  {
   "cell_type": "code",
   "execution_count": 30,
   "id": "b13114ad-98a8-4d8b-a8d0-90ad7c93de40",
   "metadata": {},
   "outputs": [],
   "source": [
    "data[\"no_punct\"] = data.apply(lambda x: re.sub(r\"[^\\w\\s]\", \"\", x[\"no_stop\"]), axis=1)"
   ]
  },
  {
   "cell_type": "code",
   "execution_count": 31,
   "id": "02e10e43-c2e3-4c30-b8f1-4343d8ca7433",
   "metadata": {},
   "outputs": [],
   "source": [
    "try:\n",
    "    data[\"tokenize\"] = data[\"no_punct\"].apply(lambda x: word_tokenize(x))\n",
    "except LookupError:\n",
    "    nltk.download(\"punkt_tab\")\n",
    "    data[\"tokenize\"] = data[\"no_punct\"].apply(lambda x: word_tokenize(x))"
   ]
  },
  {
   "cell_type": "code",
   "execution_count": 32,
   "id": "15597f02-0f05-4988-8ae8-328211c1af8b",
   "metadata": {},
   "outputs": [],
   "source": [
    "try:\n",
    "    lemmatizer = WordNetLemmatizer()\n",
    "    data[\"lemmatize\"] = data[\"tokenize\"].apply(lambda x: [lemmatizer.lemmatize(y) for y in x])\n",
    "except LookupError:\n",
    "    nltk.download(\"wordnet\")\n",
    "    lemmatizer = WordNetLemmatizer()\n",
    "    data[\"lemmatize\"] = data[\"tokenize\"].apply(lambda x: [lemmatizer.lemmatize(y) for y in x])"
   ]
  },
  {
   "cell_type": "code",
   "execution_count": 33,
   "id": "6d49f85d-347d-4ac2-b5d6-ba06d9176dc2",
   "metadata": {},
   "outputs": [],
   "source": [
    "# Indicating that this is the cleaned data\n",
    "data[\"text_cleaned\"] = data[\"lemmatize\"]"
   ]
  },
  {
   "cell_type": "code",
   "execution_count": 34,
   "id": "9e6e8f6a-0a2f-460f-bdfe-8cd30f022abd",
   "metadata": {
    "scrolled": true
   },
   "outputs": [
    {
     "data": {
      "text/html": [
       "<div>\n",
       "<style scoped>\n",
       "    .dataframe tbody tr th:only-of-type {\n",
       "        vertical-align: middle;\n",
       "    }\n",
       "\n",
       "    .dataframe tbody tr th {\n",
       "        vertical-align: top;\n",
       "    }\n",
       "\n",
       "    .dataframe thead th {\n",
       "        text-align: right;\n",
       "    }\n",
       "</style>\n",
       "<table border=\"1\" class=\"dataframe\">\n",
       "  <thead>\n",
       "    <tr style=\"text-align: right;\">\n",
       "      <th></th>\n",
       "      <th>title</th>\n",
       "      <th>text</th>\n",
       "      <th>date</th>\n",
       "      <th>fake_or_factual</th>\n",
       "      <th>text_without_prefixes</th>\n",
       "      <th>lower</th>\n",
       "      <th>no_stop</th>\n",
       "      <th>no_punct</th>\n",
       "      <th>tokenize</th>\n",
       "      <th>lemmatize</th>\n",
       "      <th>text_cleaned</th>\n",
       "    </tr>\n",
       "  </thead>\n",
       "  <tbody>\n",
       "    <tr>\n",
       "      <th>0</th>\n",
       "      <td>HOLLYWEIRD LIB SUSAN SARANDON Compares Muslim ...</td>\n",
       "      <td>There are two small problems with your analogy...</td>\n",
       "      <td>Dec 30, 2015</td>\n",
       "      <td>Fake News</td>\n",
       "      <td>There are two small problems with your analogy...</td>\n",
       "      <td>there are two small problems with your analogy...</td>\n",
       "      <td>two small problems analogy susan jesus muslim ...</td>\n",
       "      <td>two small problems analogy susan jesus muslim ...</td>\n",
       "      <td>[two, small, problems, analogy, susan, jesus, ...</td>\n",
       "      <td>[two, small, problem, analogy, susan, jesus, m...</td>\n",
       "      <td>[two, small, problem, analogy, susan, jesus, m...</td>\n",
       "    </tr>\n",
       "    <tr>\n",
       "      <th>1</th>\n",
       "      <td>Elijah Cummings Called Trump Out To His Face ...</td>\n",
       "      <td>Buried in Trump s bonkers interview with New Y...</td>\n",
       "      <td>April 6, 2017</td>\n",
       "      <td>Fake News</td>\n",
       "      <td>Buried in Trump s bonkers interview with New Y...</td>\n",
       "      <td>buried in trump s bonkers interview with new y...</td>\n",
       "      <td>buried trump bonkers interview new york times ...</td>\n",
       "      <td>buried trump bonkers interview new york times ...</td>\n",
       "      <td>[buried, trump, bonkers, interview, new, york,...</td>\n",
       "      <td>[buried, trump, bonkers, interview, new, york,...</td>\n",
       "      <td>[buried, trump, bonkers, interview, new, york,...</td>\n",
       "    </tr>\n",
       "    <tr>\n",
       "      <th>2</th>\n",
       "      <td>Hillary Clinton Says Half Her Cabinet Will Be...</td>\n",
       "      <td>Women make up over 50 percent of this country,...</td>\n",
       "      <td>April 26, 2016</td>\n",
       "      <td>Fake News</td>\n",
       "      <td>Women make up over 50 percent of this country,...</td>\n",
       "      <td>women make up over 50 percent of this country,...</td>\n",
       "      <td>women make 50 percent country, grossly underre...</td>\n",
       "      <td>women make 50 percent country grossly underrep...</td>\n",
       "      <td>[women, make, 50, percent, country, grossly, u...</td>\n",
       "      <td>[woman, make, 50, percent, country, grossly, u...</td>\n",
       "      <td>[woman, make, 50, percent, country, grossly, u...</td>\n",
       "    </tr>\n",
       "    <tr>\n",
       "      <th>3</th>\n",
       "      <td>Russian bombing of U.S.-backed forces being di...</td>\n",
       "      <td>WASHINGTON (Reuters) - U.S. Defense Secretary ...</td>\n",
       "      <td>September 18, 2017</td>\n",
       "      <td>Factual News</td>\n",
       "      <td>U.S. Defense Secretary Jim Mattis said on Mond...</td>\n",
       "      <td>u.s. defense secretary jim mattis said on mond...</td>\n",
       "      <td>u.s. defense secretary jim mattis said monday ...</td>\n",
       "      <td>us defense secretary jim mattis said monday ru...</td>\n",
       "      <td>[us, defense, secretary, jim, mattis, said, mo...</td>\n",
       "      <td>[u, defense, secretary, jim, mattis, said, mon...</td>\n",
       "      <td>[u, defense, secretary, jim, mattis, said, mon...</td>\n",
       "    </tr>\n",
       "    <tr>\n",
       "      <th>4</th>\n",
       "      <td>Britain says window to restore Northern Irelan...</td>\n",
       "      <td>BELFAST (Reuters) - Northern Ireland s politic...</td>\n",
       "      <td>September 4, 2017</td>\n",
       "      <td>Factual News</td>\n",
       "      <td>Northern Ireland s political parties are rapid...</td>\n",
       "      <td>northern ireland s political parties are rapid...</td>\n",
       "      <td>northern ireland political parties rapidly run...</td>\n",
       "      <td>northern ireland political parties rapidly run...</td>\n",
       "      <td>[northern, ireland, political, parties, rapidl...</td>\n",
       "      <td>[northern, ireland, political, party, rapidly,...</td>\n",
       "      <td>[northern, ireland, political, party, rapidly,...</td>\n",
       "    </tr>\n",
       "  </tbody>\n",
       "</table>\n",
       "</div>"
      ],
      "text/plain": [
       "                                               title  \\\n",
       "0  HOLLYWEIRD LIB SUSAN SARANDON Compares Muslim ...   \n",
       "1   Elijah Cummings Called Trump Out To His Face ...   \n",
       "2   Hillary Clinton Says Half Her Cabinet Will Be...   \n",
       "3  Russian bombing of U.S.-backed forces being di...   \n",
       "4  Britain says window to restore Northern Irelan...   \n",
       "\n",
       "                                                text                 date  \\\n",
       "0  There are two small problems with your analogy...         Dec 30, 2015   \n",
       "1  Buried in Trump s bonkers interview with New Y...        April 6, 2017   \n",
       "2  Women make up over 50 percent of this country,...       April 26, 2016   \n",
       "3  WASHINGTON (Reuters) - U.S. Defense Secretary ...  September 18, 2017    \n",
       "4  BELFAST (Reuters) - Northern Ireland s politic...   September 4, 2017    \n",
       "\n",
       "  fake_or_factual                              text_without_prefixes  \\\n",
       "0       Fake News  There are two small problems with your analogy...   \n",
       "1       Fake News  Buried in Trump s bonkers interview with New Y...   \n",
       "2       Fake News  Women make up over 50 percent of this country,...   \n",
       "3    Factual News  U.S. Defense Secretary Jim Mattis said on Mond...   \n",
       "4    Factual News  Northern Ireland s political parties are rapid...   \n",
       "\n",
       "                                               lower  \\\n",
       "0  there are two small problems with your analogy...   \n",
       "1  buried in trump s bonkers interview with new y...   \n",
       "2  women make up over 50 percent of this country,...   \n",
       "3  u.s. defense secretary jim mattis said on mond...   \n",
       "4  northern ireland s political parties are rapid...   \n",
       "\n",
       "                                             no_stop  \\\n",
       "0  two small problems analogy susan jesus muslim ...   \n",
       "1  buried trump bonkers interview new york times ...   \n",
       "2  women make 50 percent country, grossly underre...   \n",
       "3  u.s. defense secretary jim mattis said monday ...   \n",
       "4  northern ireland political parties rapidly run...   \n",
       "\n",
       "                                            no_punct  \\\n",
       "0  two small problems analogy susan jesus muslim ...   \n",
       "1  buried trump bonkers interview new york times ...   \n",
       "2  women make 50 percent country grossly underrep...   \n",
       "3  us defense secretary jim mattis said monday ru...   \n",
       "4  northern ireland political parties rapidly run...   \n",
       "\n",
       "                                            tokenize  \\\n",
       "0  [two, small, problems, analogy, susan, jesus, ...   \n",
       "1  [buried, trump, bonkers, interview, new, york,...   \n",
       "2  [women, make, 50, percent, country, grossly, u...   \n",
       "3  [us, defense, secretary, jim, mattis, said, mo...   \n",
       "4  [northern, ireland, political, parties, rapidl...   \n",
       "\n",
       "                                           lemmatize  \\\n",
       "0  [two, small, problem, analogy, susan, jesus, m...   \n",
       "1  [buried, trump, bonkers, interview, new, york,...   \n",
       "2  [woman, make, 50, percent, country, grossly, u...   \n",
       "3  [u, defense, secretary, jim, mattis, said, mon...   \n",
       "4  [northern, ireland, political, party, rapidly,...   \n",
       "\n",
       "                                        text_cleaned  \n",
       "0  [two, small, problem, analogy, susan, jesus, m...  \n",
       "1  [buried, trump, bonkers, interview, new, york,...  \n",
       "2  [woman, make, 50, percent, country, grossly, u...  \n",
       "3  [u, defense, secretary, jim, mattis, said, mon...  \n",
       "4  [northern, ireland, political, party, rapidly,...  "
      ]
     },
     "execution_count": 34,
     "metadata": {},
     "output_type": "execute_result"
    }
   ],
   "source": [
    "data.head()"
   ]
  },
  {
   "cell_type": "code",
   "execution_count": 35,
   "id": "b4bf47ba-5af6-4f7d-91bb-2efa79fd9ba5",
   "metadata": {},
   "outputs": [],
   "source": [
    "tokens = sum(data[\"text_cleaned\"], [])"
   ]
  },
  {
   "cell_type": "code",
   "execution_count": 36,
   "id": "6be1b9da-62d9-4601-9ba6-433dabf85dff",
   "metadata": {},
   "outputs": [
    {
     "name": "stdout",
     "output_type": "stream",
     "text": [
      "           index  count\n",
      "0        (said,)    580\n",
      "1       (trump,)    580\n",
      "2           (u,)    277\n",
      "3       (state,)    275\n",
      "4   (president,)    259\n",
      "5       (would,)    226\n",
      "6         (one,)    160\n",
      "7     (clinton,)    141\n",
      "8        (year,)    139\n",
      "9  (republican,)    137\n"
     ]
    }
   ],
   "source": [
    "unigrams = (pd.Series(nltk.ngrams(tokens, 1)).value_counts()).reset_index()\n",
    "print(unigrams[:10])"
   ]
  },
  {
   "cell_type": "code",
   "execution_count": 37,
   "id": "e7ca0b70-b2dd-46a9-9a44-e67116dd511f",
   "metadata": {},
   "outputs": [
    {
     "name": "stderr",
     "output_type": "stream",
     "text": [
      "/tmp/ipykernel_6204/467467709.py:3: UserWarning: \n",
      "The palette list has fewer values (1) than needed (10) and will cycle, which may produce an uninterpretable plot.\n",
      "  sns.barplot(\n"
     ]
    },
    {
     "data": {
      "text/plain": [
       "[Text(0.5, 1.0, 'Most Common Unigrams after pre-processing')]"
      ]
     },
     "execution_count": 37,
     "metadata": {},
     "output_type": "execute_result"
    },
    {
     "data": {
      "image/png": "[encoded data removed]",
      "text/plain": [
       "<Figure size 800x600 with 1 Axes>"
      ]
     },
     "metadata": {},
     "output_type": "display_data"
    }
   ],
   "source": [
    "unigrams[\"token\"] = unigrams[\"index\"].apply(lambda x: x[0])\n",
    "\n",
    "sns.barplot(\n",
    "    x = \"count\",\n",
    "    y = \"token\",\n",
    "    data = unigrams[:10],\n",
    "    orient = \"h\",\n",
    "    palette = [default_plot_color],\n",
    "    hue = \"token\"\n",
    ").set(title=\"Most Common Unigrams after pre-processing\")"
   ]
  },
  {
   "cell_type": "code",
   "execution_count": 38,
   "id": "eb177ec5-7399-4d15-a116-e98f8d5fabd8",
   "metadata": {},
   "outputs": [
    {
     "name": "stdout",
     "output_type": "stream",
     "text": [
      "                     index  count\n",
      "0          (donald, trump)    113\n",
      "1          (united, state)     84\n",
      "2           (white, house)     74\n",
      "3      (president, donald)     47\n",
      "4       (hillary, clinton)     39\n",
      "5              (new, york)     33\n",
      "6         (supreme, court)     30\n",
      "7             (image, via)     29\n",
      "8  (trump, administration)     26\n",
      "9         (official, said)     26\n"
     ]
    }
   ],
   "source": [
    "bigrams = (pd.Series(nltk.ngrams(tokens, 2)).value_counts()).reset_index()\n",
    "print(bigrams[:10])"
   ]
  },
  {
   "cell_type": "code",
   "execution_count": 39,
   "id": "546166ab-7bf5-4253-b5b9-0f8a7a688ad3",
   "metadata": {},
   "outputs": [
    {
     "name": "stdout",
     "output_type": "stream",
     "text": [
      "                           index  count\n",
      "0     (president, donald, trump)     46\n",
      "1     (president, barack, obama)     14\n",
      "2              (new, york, time)     11\n",
      "3       (white, house, official)     10\n",
      "4           (food, stamp, fraud)     10\n",
      "5         (u, president, donald)     10\n",
      "6       (director, james, comey)      8\n",
      "7         (fbi, director, james)      8\n",
      "8  (national, security, adviser)      7\n",
      "9        (high, school, student)      7\n"
     ]
    }
   ],
   "source": [
    "trigrams = (pd.Series(nltk.ngrams(tokens, 3)).value_counts()).reset_index()\n",
    "print(trigrams[:10])"
   ]
  },
  {
   "cell_type": "markdown",
   "id": "3616b565-a044-4c0a-91a1-dffa9f22fdf2",
   "metadata": {},
   "source": [
    "# Sentiment analysis\n",
    "\n",
    "Does sentiment differ between news types? Does fake have more positive news than facts?\n",
    "\n",
    "We will experiment with the vader sentiment package."
   ]
  },
  {
   "cell_type": "code",
   "execution_count": 40,
   "id": "3e14f19b-cd44-48f3-93d0-5d1a0d1dad11",
   "metadata": {},
   "outputs": [],
   "source": [
    "vader_sentiment = SentimentIntensityAnalyzer()"
   ]
  },
  {
   "cell_type": "code",
   "execution_count": 41,
   "id": "3678b6e1-46fb-4a0c-a394-87f975aea0ca",
   "metadata": {},
   "outputs": [],
   "source": [
    "data[\"vader_sentiment_score\"] = data[\"text\"].apply(lambda x: vader_sentiment.polarity_scores(x)[\"compound\"])"
   ]
  },
  {
   "cell_type": "code",
   "execution_count": 42,
   "id": "81b0174d-f563-4d71-8002-760518bfe56d",
   "metadata": {},
   "outputs": [],
   "source": [
    "bins = [-1, -0.1, 0.1, 1]\n",
    "names = [\"negative\", \"neutral\", \"positive\"]"
   ]
  },
  {
   "cell_type": "code",
   "execution_count": 43,
   "id": "c32a4468-adb3-4d94-8588-258955132cd4",
   "metadata": {},
   "outputs": [],
   "source": [
    "data[\"vader_sentiment_label\"] = pd.cut(data[\"vader_sentiment_score\"], bins, labels=names)"
   ]
  },
  {
   "cell_type": "code",
   "execution_count": 44,
   "id": "a762e83e-d232-467d-878c-9939e0168628",
   "metadata": {
    "scrolled": true
   },
   "outputs": [
    {
     "data": {
      "text/html": [
       "<div>\n",
       "<style scoped>\n",
       "    .dataframe tbody tr th:only-of-type {\n",
       "        vertical-align: middle;\n",
       "    }\n",
       "\n",
       "    .dataframe tbody tr th {\n",
       "        vertical-align: top;\n",
       "    }\n",
       "\n",
       "    .dataframe thead th {\n",
       "        text-align: right;\n",
       "    }\n",
       "</style>\n",
       "<table border=\"1\" class=\"dataframe\">\n",
       "  <thead>\n",
       "    <tr style=\"text-align: right;\">\n",
       "      <th></th>\n",
       "      <th>title</th>\n",
       "      <th>text</th>\n",
       "      <th>date</th>\n",
       "      <th>fake_or_factual</th>\n",
       "      <th>text_without_prefixes</th>\n",
       "      <th>lower</th>\n",
       "      <th>no_stop</th>\n",
       "      <th>no_punct</th>\n",
       "      <th>tokenize</th>\n",
       "      <th>lemmatize</th>\n",
       "      <th>text_cleaned</th>\n",
       "      <th>vader_sentiment_score</th>\n",
       "      <th>vader_sentiment_label</th>\n",
       "    </tr>\n",
       "  </thead>\n",
       "  <tbody>\n",
       "    <tr>\n",
       "      <th>0</th>\n",
       "      <td>HOLLYWEIRD LIB SUSAN SARANDON Compares Muslim ...</td>\n",
       "      <td>There are two small problems with your analogy...</td>\n",
       "      <td>Dec 30, 2015</td>\n",
       "      <td>Fake News</td>\n",
       "      <td>There are two small problems with your analogy...</td>\n",
       "      <td>there are two small problems with your analogy...</td>\n",
       "      <td>two small problems analogy susan jesus muslim ...</td>\n",
       "      <td>two small problems analogy susan jesus muslim ...</td>\n",
       "      <td>[two, small, problems, analogy, susan, jesus, ...</td>\n",
       "      <td>[two, small, problem, analogy, susan, jesus, m...</td>\n",
       "      <td>[two, small, problem, analogy, susan, jesus, m...</td>\n",
       "      <td>-0.3660</td>\n",
       "      <td>negative</td>\n",
       "    </tr>\n",
       "    <tr>\n",
       "      <th>1</th>\n",
       "      <td>Elijah Cummings Called Trump Out To His Face ...</td>\n",
       "      <td>Buried in Trump s bonkers interview with New Y...</td>\n",
       "      <td>April 6, 2017</td>\n",
       "      <td>Fake News</td>\n",
       "      <td>Buried in Trump s bonkers interview with New Y...</td>\n",
       "      <td>buried in trump s bonkers interview with new y...</td>\n",
       "      <td>buried trump bonkers interview new york times ...</td>\n",
       "      <td>buried trump bonkers interview new york times ...</td>\n",
       "      <td>[buried, trump, bonkers, interview, new, york,...</td>\n",
       "      <td>[buried, trump, bonkers, interview, new, york,...</td>\n",
       "      <td>[buried, trump, bonkers, interview, new, york,...</td>\n",
       "      <td>-0.8197</td>\n",
       "      <td>negative</td>\n",
       "    </tr>\n",
       "    <tr>\n",
       "      <th>2</th>\n",
       "      <td>Hillary Clinton Says Half Her Cabinet Will Be...</td>\n",
       "      <td>Women make up over 50 percent of this country,...</td>\n",
       "      <td>April 26, 2016</td>\n",
       "      <td>Fake News</td>\n",
       "      <td>Women make up over 50 percent of this country,...</td>\n",
       "      <td>women make up over 50 percent of this country,...</td>\n",
       "      <td>women make 50 percent country, grossly underre...</td>\n",
       "      <td>women make 50 percent country grossly underrep...</td>\n",
       "      <td>[women, make, 50, percent, country, grossly, u...</td>\n",
       "      <td>[woman, make, 50, percent, country, grossly, u...</td>\n",
       "      <td>[woman, make, 50, percent, country, grossly, u...</td>\n",
       "      <td>0.9779</td>\n",
       "      <td>positive</td>\n",
       "    </tr>\n",
       "    <tr>\n",
       "      <th>3</th>\n",
       "      <td>Russian bombing of U.S.-backed forces being di...</td>\n",
       "      <td>WASHINGTON (Reuters) - U.S. Defense Secretary ...</td>\n",
       "      <td>September 18, 2017</td>\n",
       "      <td>Factual News</td>\n",
       "      <td>U.S. Defense Secretary Jim Mattis said on Mond...</td>\n",
       "      <td>u.s. defense secretary jim mattis said on mond...</td>\n",
       "      <td>u.s. defense secretary jim mattis said monday ...</td>\n",
       "      <td>us defense secretary jim mattis said monday ru...</td>\n",
       "      <td>[us, defense, secretary, jim, mattis, said, mo...</td>\n",
       "      <td>[u, defense, secretary, jim, mattis, said, mon...</td>\n",
       "      <td>[u, defense, secretary, jim, mattis, said, mon...</td>\n",
       "      <td>-0.3400</td>\n",
       "      <td>negative</td>\n",
       "    </tr>\n",
       "    <tr>\n",
       "      <th>4</th>\n",
       "      <td>Britain says window to restore Northern Irelan...</td>\n",
       "      <td>BELFAST (Reuters) - Northern Ireland s politic...</td>\n",
       "      <td>September 4, 2017</td>\n",
       "      <td>Factual News</td>\n",
       "      <td>Northern Ireland s political parties are rapid...</td>\n",
       "      <td>northern ireland s political parties are rapid...</td>\n",
       "      <td>northern ireland political parties rapidly run...</td>\n",
       "      <td>northern ireland political parties rapidly run...</td>\n",
       "      <td>[northern, ireland, political, parties, rapidl...</td>\n",
       "      <td>[northern, ireland, political, party, rapidly,...</td>\n",
       "      <td>[northern, ireland, political, party, rapidly,...</td>\n",
       "      <td>0.8590</td>\n",
       "      <td>positive</td>\n",
       "    </tr>\n",
       "  </tbody>\n",
       "</table>\n",
       "</div>"
      ],
      "text/plain": [
       "                                               title  \\\n",
       "0  HOLLYWEIRD LIB SUSAN SARANDON Compares Muslim ...   \n",
       "1   Elijah Cummings Called Trump Out To His Face ...   \n",
       "2   Hillary Clinton Says Half Her Cabinet Will Be...   \n",
       "3  Russian bombing of U.S.-backed forces being di...   \n",
       "4  Britain says window to restore Northern Irelan...   \n",
       "\n",
       "                                                text                 date  \\\n",
       "0  There are two small problems with your analogy...         Dec 30, 2015   \n",
       "1  Buried in Trump s bonkers interview with New Y...        April 6, 2017   \n",
       "2  Women make up over 50 percent of this country,...       April 26, 2016   \n",
       "3  WASHINGTON (Reuters) - U.S. Defense Secretary ...  September 18, 2017    \n",
       "4  BELFAST (Reuters) - Northern Ireland s politic...   September 4, 2017    \n",
       "\n",
       "  fake_or_factual                              text_without_prefixes  \\\n",
       "0       Fake News  There are two small problems with your analogy...   \n",
       "1       Fake News  Buried in Trump s bonkers interview with New Y...   \n",
       "2       Fake News  Women make up over 50 percent of this country,...   \n",
       "3    Factual News  U.S. Defense Secretary Jim Mattis said on Mond...   \n",
       "4    Factual News  Northern Ireland s political parties are rapid...   \n",
       "\n",
       "                                               lower  \\\n",
       "0  there are two small problems with your analogy...   \n",
       "1  buried in trump s bonkers interview with new y...   \n",
       "2  women make up over 50 percent of this country,...   \n",
       "3  u.s. defense secretary jim mattis said on mond...   \n",
       "4  northern ireland s political parties are rapid...   \n",
       "\n",
       "                                             no_stop  \\\n",
       "0  two small problems analogy susan jesus muslim ...   \n",
       "1  buried trump bonkers interview new york times ...   \n",
       "2  women make 50 percent country, grossly underre...   \n",
       "3  u.s. defense secretary jim mattis said monday ...   \n",
       "4  northern ireland political parties rapidly run...   \n",
       "\n",
       "                                            no_punct  \\\n",
       "0  two small problems analogy susan jesus muslim ...   \n",
       "1  buried trump bonkers interview new york times ...   \n",
       "2  women make 50 percent country grossly underrep...   \n",
       "3  us defense secretary jim mattis said monday ru...   \n",
       "4  northern ireland political parties rapidly run...   \n",
       "\n",
       "                                            tokenize  \\\n",
       "0  [two, small, problems, analogy, susan, jesus, ...   \n",
       "1  [buried, trump, bonkers, interview, new, york,...   \n",
       "2  [women, make, 50, percent, country, grossly, u...   \n",
       "3  [us, defense, secretary, jim, mattis, said, mo...   \n",
       "4  [northern, ireland, political, parties, rapidl...   \n",
       "\n",
       "                                           lemmatize  \\\n",
       "0  [two, small, problem, analogy, susan, jesus, m...   \n",
       "1  [buried, trump, bonkers, interview, new, york,...   \n",
       "2  [woman, make, 50, percent, country, grossly, u...   \n",
       "3  [u, defense, secretary, jim, mattis, said, mon...   \n",
       "4  [northern, ireland, political, party, rapidly,...   \n",
       "\n",
       "                                        text_cleaned  vader_sentiment_score  \\\n",
       "0  [two, small, problem, analogy, susan, jesus, m...                -0.3660   \n",
       "1  [buried, trump, bonkers, interview, new, york,...                -0.8197   \n",
       "2  [woman, make, 50, percent, country, grossly, u...                 0.9779   \n",
       "3  [u, defense, secretary, jim, mattis, said, mon...                -0.3400   \n",
       "4  [northern, ireland, political, party, rapidly,...                 0.8590   \n",
       "\n",
       "  vader_sentiment_label  \n",
       "0              negative  \n",
       "1              negative  \n",
       "2              positive  \n",
       "3              negative  \n",
       "4              positive  "
      ]
     },
     "execution_count": 44,
     "metadata": {},
     "output_type": "execute_result"
    }
   ],
   "source": [
    "data.head()"
   ]
  },
  {
   "cell_type": "code",
   "execution_count": 45,
   "id": "e36dafcf-b7a9-4db2-b334-2e55dca0b8ae",
   "metadata": {
    "scrolled": true
   },
   "outputs": [
    {
     "data": {
      "text/plain": [
       "<Axes: xlabel='vader_sentiment_label'>"
      ]
     },
     "execution_count": 45,
     "metadata": {},
     "output_type": "execute_result"
    },
    {
     "data": {
      "image/png": "[encoded data removed]",
      "text/plain": [
       "<Figure size 800x600 with 1 Axes>"
      ]
     },
     "metadata": {},
     "output_type": "display_data"
    }
   ],
   "source": [
    "data[\"vader_sentiment_label\"].value_counts().plot.bar(color=default_plot_color)"
   ]
  },
  {
   "cell_type": "code",
   "execution_count": 46,
   "id": "5dd0549b-a1e0-4e81-8fcb-003a39c97e5e",
   "metadata": {},
   "outputs": [
    {
     "name": "stderr",
     "output_type": "stream",
     "text": [
      "/tmp/ipykernel_6204/3298778351.py:1: UserWarning: The palette list has more values (6) than needed (3), which may not be intended.\n",
      "  sns.countplot(\n"
     ]
    },
    {
     "data": {
      "text/plain": [
       "[Text(0.5, 1.0, 'Sentiment by news type')]"
      ]
     },
     "execution_count": 46,
     "metadata": {},
     "output_type": "execute_result"
    },
    {
     "data": {
      "image/png": "[encoded data removed]",
      "text/plain": [
       "<Figure size 800x600 with 1 Axes>"
      ]
     },
     "metadata": {},
     "output_type": "display_data"
    }
   ],
   "source": [
    "sns.countplot(\n",
    "    x = \"fake_or_factual\",\n",
    "    hue = \"vader_sentiment_label\",\n",
    "    palette = sns.color_palette(\"hls\"),\n",
    "    data = data\n",
    "    ).set(title=\"Sentiment by news type\")"
   ]
  },
  {
   "cell_type": "markdown",
   "id": "82977ccc-d04c-408a-be05-e172246e729a",
   "metadata": {},
   "source": [
    "# Topic Modelling\n",
    "\n",
    "Next, we will try to group news articles by their topics using Latent Dirichlet Allocation (LDA) and Latent Semantic Analysis (LSA)"
   ]
  },
  {
   "cell_type": "code",
   "execution_count": 47,
   "id": "314e1de0-baff-4e64-a1ef-c3c9aaff77df",
   "metadata": {},
   "outputs": [],
   "source": [
    "fake_news_text = data[data[\"fake_or_factual\"] == \"Fake News\"][\"text_cleaned\"].reset_index(drop=True)\n",
    "fact_news_text = data[data[\"fake_or_factual\"] == \"Factual News\"][\"text_cleaned\"].reset_index(drop=True)"
   ]
  },
  {
   "cell_type": "code",
   "execution_count": 48,
   "id": "4eaee06c-9f66-42f4-9de4-24c96443e59f",
   "metadata": {},
   "outputs": [],
   "source": [
    "dictionary_fake = corpora.Dictionary(fake_news_text)\n",
    "dictionary_fact = corpora.Dictionary(fact_news_text)"
   ]
  },
  {
   "cell_type": "code",
   "execution_count": 49,
   "id": "86d067e7-4009-453b-8404-259f074bdbe2",
   "metadata": {},
   "outputs": [],
   "source": [
    "doc_term_fake = [dictionary_fake.doc2bow(text) for text in fake_news_text]\n",
    "doc_term_fact = [dictionary_fact.doc2bow(text) for text in fact_news_text]"
   ]
  },
  {
   "cell_type": "code",
   "execution_count": 50,
   "id": "7bd66bc1-2d03-4fd1-abf6-8277d19cd00d",
   "metadata": {
    "scrolled": true
   },
   "outputs": [],
   "source": [
    "fake_values = []\n",
    "fact_values = []\n",
    "fake_models = []\n",
    "fact_models = []\n",
    "\n",
    "MIN_TOPICS = 2\n",
    "MAX_TOPICS = 6\n",
    "\n",
    "num_topics_fake = 1\n",
    "num_topics_fact = 1\n",
    "curr_value_fake = 0\n",
    "curr_value_fact = 0\n",
    "\n",
    "for n in range(MIN_TOPICS, MAX_TOPICS + 1):\n",
    "    # for the fake dataset\n",
    "    model_fake = gensim.models.LsiModel(\n",
    "        corpus = doc_term_fake,\n",
    "        id2word = dictionary_fake,\n",
    "        num_topics = n\n",
    "    )\n",
    "    fake_models.append(model_fake)\n",
    "    coherence_model_fake = CoherenceModel(\n",
    "        model = model_fake,\n",
    "        texts = fake_news_text,\n",
    "        dictionary = dictionary_fake,\n",
    "        coherence = 'c_v'\n",
    "    )\n",
    "    coherence_value = coherence_model_fake.get_coherence()\n",
    "    fake_values.append(coherence_value)\n",
    "    if coherence_value > curr_value_fake:\n",
    "        num_topics_fake = n\n",
    "        curr_value_fake = coherence_value\n",
    "    # for the factual dataset\n",
    "    model_fact = gensim.models.LsiModel(\n",
    "        corpus = doc_term_fact,\n",
    "        id2word = dictionary_fact,\n",
    "        num_topics = n\n",
    "    )\n",
    "    fact_models.append(model_fact)\n",
    "    coherence_model_fact = CoherenceModel(\n",
    "        model = model_fact,\n",
    "        texts = fact_news_text,\n",
    "        dictionary = dictionary_fact,\n",
    "        coherence = 'c_v'\n",
    "    )\n",
    "    coherence_value = coherence_model_fact.get_coherence()\n",
    "    fact_values.append(coherence_value)\n",
    "    if coherence_value > curr_value_fact:\n",
    "        num_topics_fact = n\n",
    "        curr_value_fact = coherence_value"
   ]
  },
  {
   "cell_type": "code",
   "execution_count": 51,
   "id": "fe2740f5-cccb-4645-b1e3-acaa0cef2e2c",
   "metadata": {},
   "outputs": [
    {
     "data": {
      "text/plain": [
       "4"
      ]
     },
     "execution_count": 51,
     "metadata": {},
     "output_type": "execute_result"
    }
   ],
   "source": [
    "num_topics_fake"
   ]
  },
  {
   "cell_type": "code",
   "execution_count": 52,
   "id": "6cfc1f1b-e234-4f3d-a878-bc679d01272f",
   "metadata": {},
   "outputs": [
    {
     "data": {
      "text/plain": [
       "3"
      ]
     },
     "execution_count": 52,
     "metadata": {},
     "output_type": "execute_result"
    }
   ],
   "source": [
    "num_topics_fact"
   ]
  },
  {
   "cell_type": "code",
   "execution_count": 53,
   "id": "7df69390-fc75-43db-b74d-385db237ce43",
   "metadata": {},
   "outputs": [
    {
     "data": {
      "image/png": "[encoded data removed]",
      "text/plain": [
       "<Figure size 800x600 with 1 Axes>"
      ]
     },
     "metadata": {},
     "output_type": "display_data"
    }
   ],
   "source": [
    "plt.plot(range(MIN_TOPICS, MAX_TOPICS+1), fake_values, label=\"Fake news\")\n",
    "plt.plot(range(MIN_TOPICS, MAX_TOPICS+1), fact_values, label=\"Factual news\")\n",
    "plt.legend(loc='best')\n",
    "plt.xlabel(\"Number of Topics\")\n",
    "plt.ylabel(\"Coherence score\")\n",
    "plt.show()"
   ]
  },
  {
   "cell_type": "code",
   "execution_count": 54,
   "id": "ee214328-a0a9-471f-bbd2-405257f3a8b0",
   "metadata": {},
   "outputs": [
    {
     "data": {
      "text/plain": [
       "[(0,\n",
       "  '0.008*\"trump\" + 0.005*\"president\" + 0.004*\"said\" + 0.004*\"would\" + 0.003*\"state\" + 0.003*\"one\" + 0.003*\"u\" + 0.003*\"republican\" + 0.003*\"official\" + 0.002*\"donald\"'),\n",
       " (1,\n",
       "  '0.012*\"trump\" + 0.006*\"clinton\" + 0.005*\"state\" + 0.004*\"president\" + 0.004*\"said\" + 0.004*\"u\" + 0.004*\"one\" + 0.003*\"would\" + 0.003*\"woman\" + 0.003*\"time\"'),\n",
       " (2,\n",
       "  '0.009*\"trump\" + 0.005*\"president\" + 0.004*\"time\" + 0.004*\"said\" + 0.003*\"people\" + 0.003*\"year\" + 0.003*\"one\" + 0.003*\"u\" + 0.003*\"would\" + 0.003*\"republican\"'),\n",
       " (3,\n",
       "  '0.013*\"trump\" + 0.006*\"said\" + 0.004*\"state\" + 0.004*\"clinton\" + 0.004*\"would\" + 0.003*\"woman\" + 0.003*\"u\" + 0.003*\"obama\" + 0.003*\"people\" + 0.003*\"american\"')]"
      ]
     },
     "execution_count": 54,
     "metadata": {},
     "output_type": "execute_result"
    }
   ],
   "source": [
    "lda_fake = gensim.models.LdaModel(\n",
    "    corpus = doc_term_fake,\n",
    "    id2word = dictionary_fake,\n",
    "    num_topics = num_topics_fake\n",
    ")\n",
    "lda_fake.print_topics()"
   ]
  },
  {
   "cell_type": "code",
   "execution_count": 55,
   "id": "b2131fa4-061a-4f8c-8d20-d0becb85719f",
   "metadata": {},
   "outputs": [
    {
     "data": {
      "text/plain": [
       "[(0,\n",
       "  '0.018*\"said\" + 0.013*\"trump\" + 0.009*\"u\" + 0.007*\"state\" + 0.006*\"president\" + 0.005*\"would\" + 0.003*\"could\" + 0.003*\"military\" + 0.003*\"court\" + 0.003*\"bill\"'),\n",
       " (1,\n",
       "  '0.011*\"said\" + 0.011*\"trump\" + 0.005*\"state\" + 0.004*\"president\" + 0.004*\"court\" + 0.004*\"u\" + 0.004*\"would\" + 0.004*\"official\" + 0.004*\"also\" + 0.003*\"government\"'),\n",
       " (2,\n",
       "  '0.020*\"said\" + 0.007*\"trump\" + 0.007*\"u\" + 0.007*\"state\" + 0.006*\"would\" + 0.005*\"president\" + 0.004*\"house\" + 0.004*\"one\" + 0.003*\"united\" + 0.003*\"year\"')]"
      ]
     },
     "execution_count": 55,
     "metadata": {},
     "output_type": "execute_result"
    }
   ],
   "source": [
    "lda_fact = gensim.models.LdaModel(\n",
    "    corpus = doc_term_fact,\n",
    "    id2word = dictionary_fact,\n",
    "    num_topics = num_topics_fact\n",
    ")\n",
    "lda_fact.print_topics()"
   ]
  },
  {
   "cell_type": "code",
   "execution_count": 56,
   "id": "45caa978-c626-4585-9be8-e8d2ed13e1dc",
   "metadata": {},
   "outputs": [],
   "source": [
    "def tfidf_corpus(doc_term_matrix):\n",
    "    # create a corpus using tfidf vecotization\n",
    "    tfidf = TfidfModel(corpus=doc_term_matrix, normalize=True)\n",
    "    corpus_tfidf = tfidf[doc_term_matrix]\n",
    "    return corpus_tfidf"
   ]
  },
  {
   "cell_type": "code",
   "execution_count": 57,
   "id": "8fd9c962-5693-4d0b-8a04-99a153219703",
   "metadata": {},
   "outputs": [],
   "source": [
    "# create tfidf representation for both fake and factual datasets\n",
    "corpus_tfidf_fake = tfidf_corpus(doc_term_fake)\n",
    "corpus_tfidf_fact = tfidf_corpus(doc_term_fact)"
   ]
  },
  {
   "cell_type": "code",
   "execution_count": 58,
   "id": "102ca5a5-4a78-429b-b320-2563820170fa",
   "metadata": {},
   "outputs": [],
   "source": [
    "fake_values = []\n",
    "fact_values = []\n",
    "fake_models = []\n",
    "fact_models = []\n",
    "\n",
    "MIN_TOPICS = 2\n",
    "MAX_TOPICS = 6\n",
    "\n",
    "num_topics_fake = 1\n",
    "num_topics_fact = 1\n",
    "curr_value_fake = 0\n",
    "curr_value_fact = 0\n",
    "\n",
    "for n in range(MIN_TOPICS, MAX_TOPICS + 1):\n",
    "    # for the fake dataset\n",
    "    model_fake = gensim.models.LsiModel(\n",
    "        corpus = corpus_tfidf_fake,\n",
    "        id2word = dictionary_fake,\n",
    "        num_topics = n\n",
    "    )\n",
    "    fake_models.append(model_fake)\n",
    "    coherence_model_fake = CoherenceModel(\n",
    "        model = model_fake,\n",
    "        texts = fake_news_text,\n",
    "        dictionary = dictionary_fake,\n",
    "        coherence = 'c_v'\n",
    "    )\n",
    "    coherence_value = coherence_model_fake.get_coherence()\n",
    "    fake_values.append(coherence_value)\n",
    "    if coherence_value > curr_value_fake:\n",
    "        num_topics_fake = n\n",
    "        curr_value_fake = coherence_value\n",
    "    # for the factual dataset\n",
    "    model_fact = gensim.models.LsiModel(\n",
    "        corpus = corpus_tfidf_fact,\n",
    "        id2word = dictionary_fact,\n",
    "        num_topics = n\n",
    "    )\n",
    "    fact_models.append(model_fact)\n",
    "    coherence_model_fact = CoherenceModel(\n",
    "        model = model_fact,\n",
    "        texts = fact_news_text,\n",
    "        dictionary = dictionary_fact,\n",
    "        coherence = 'c_v'\n",
    "    )\n",
    "    coherence_value = coherence_model_fact.get_coherence()\n",
    "    fact_values.append(coherence_value)\n",
    "    if coherence_value > curr_value_fact:\n",
    "        num_topics_fact = n\n",
    "        curr_value_fact = coherence_value"
   ]
  },
  {
   "cell_type": "code",
   "execution_count": 59,
   "id": "63bb5585-ce66-4252-a4ca-981a17f1edf8",
   "metadata": {},
   "outputs": [
    {
     "data": {
      "image/png": "[encoded data removed]",
      "text/plain": [
       "<Figure size 800x600 with 1 Axes>"
      ]
     },
     "metadata": {},
     "output_type": "display_data"
    }
   ],
   "source": [
    "plt.plot(range(MIN_TOPICS, MAX_TOPICS+1), fake_values, label=\"Fake news\")\n",
    "plt.plot(range(MIN_TOPICS, MAX_TOPICS+1), fact_values, label=\"Factual news\")\n",
    "plt.legend(loc='best')\n",
    "plt.xlabel(\"Number of Topics\")\n",
    "plt.ylabel(\"Coherence score\")\n",
    "plt.show()"
   ]
  },
  {
   "cell_type": "code",
   "execution_count": 60,
   "id": "c6c95234-31b6-4098-a78a-2d24d676ea61",
   "metadata": {},
   "outputs": [
    {
     "data": {
      "text/plain": [
       "[(0,\n",
       "  '0.188*\"trump\" + 0.134*\"clinton\" + 0.093*\"obama\" + 0.093*\"hillary\" + 0.089*\"president\" + 0.086*\"woman\" + 0.077*\"republican\" + 0.077*\"flynn\" + 0.077*\"party\" + 0.074*\"candidate\"'),\n",
       " (1,\n",
       "  '-0.326*\"boiler\" + -0.284*\"acr\" + -0.244*\"room\" + -0.240*\"pm\" + -0.186*\"broadcast\" + -0.180*\"radio\" + -0.142*\"animal\" + -0.142*\"tune\" + -0.134*\"jay\" + -0.132*\"episode\"'),\n",
       " (2,\n",
       "  '0.623*\"flynn\" + 0.182*\"immunity\" + 0.123*\"nana\" + 0.116*\"mr\" + 0.109*\"30\" + 0.108*\"march\" + 0.100*\"russian\" + 0.099*\"source\" + -0.096*\"school\" + 0.092*\"adviser\"'),\n",
       " (3,\n",
       "  '-0.217*\"clinton\" + 0.182*\"school\" + 0.174*\"student\" + -0.142*\"hillary\" + 0.128*\"flynn\" + 0.120*\"county\" + -0.111*\"sander\" + -0.099*\"woman\" + -0.097*\"debate\" + -0.092*\"nominee\"')]"
      ]
     },
     "execution_count": 60,
     "metadata": {},
     "output_type": "execute_result"
    }
   ],
   "source": [
    "lsa_fake = LsiModel(corpus_tfidf_fake, id2word=dictionary_fake, num_topics=num_topics_fake)\n",
    "lsa_fake.print_topics()"
   ]
  },
  {
   "cell_type": "code",
   "execution_count": 61,
   "id": "81fd3d75-6aca-49f5-b416-8e4c8a2159de",
   "metadata": {},
   "outputs": [
    {
     "data": {
      "text/plain": [
       "[(0,\n",
       "  '0.198*\"trump\" + 0.126*\"court\" + 0.113*\"korea\" + 0.100*\"bill\" + 0.097*\"state\" + 0.091*\"putin\" + 0.089*\"order\" + 0.086*\"ban\" + 0.086*\"russia\" + 0.084*\"israel\"'),\n",
       " (1,\n",
       "  '-0.333*\"korea\" + -0.226*\"south\" + 0.185*\"court\" + -0.176*\"north\" + -0.172*\"china\" + -0.147*\"japanese\" + 0.125*\"ban\" + -0.122*\"abe\" + 0.121*\"order\" + -0.120*\"korean\"'),\n",
       " (2,\n",
       "  '0.255*\"putin\" + -0.251*\"korea\" + 0.220*\"syria\" + 0.189*\"israel\" + -0.152*\"south\" + 0.137*\"israeli\" + -0.128*\"north\" + 0.122*\"syrian\" + -0.119*\"court\" + 0.119*\"strike\"'),\n",
       " (3,\n",
       "  '0.251*\"bill\" + -0.227*\"court\" + -0.180*\"ban\" + 0.172*\"tax\" + -0.168*\"order\" + 0.136*\"senate\" + -0.132*\"refugee\" + 0.129*\"vote\" + -0.117*\"judge\" + -0.106*\"circuit\"')]"
      ]
     },
     "execution_count": 61,
     "metadata": {},
     "output_type": "execute_result"
    }
   ],
   "source": [
    "lsa_fact = LsiModel(corpus_tfidf_fact, id2word=dictionary_fact, num_topics=num_topics_fact)\n",
    "lsa_fact.print_topics()"
   ]
  },
  {
   "cell_type": "markdown",
   "id": "95d65760-275d-4330-9281-a3c20a25b574",
   "metadata": {},
   "source": [
    "# Classifying fake vs factual news using classical machine learning models\n",
    "\n",
    "In this example, we will use Logistic Regression and Support Vector Machines."
   ]
  },
  {
   "cell_type": "code",
   "execution_count": 62,
   "id": "2a7db046-4239-4396-9d05-0e399b9eb608",
   "metadata": {},
   "outputs": [
    {
     "data": {
      "text/html": [
       "<div>\n",
       "<style scoped>\n",
       "    .dataframe tbody tr th:only-of-type {\n",
       "        vertical-align: middle;\n",
       "    }\n",
       "\n",
       "    .dataframe tbody tr th {\n",
       "        vertical-align: top;\n",
       "    }\n",
       "\n",
       "    .dataframe thead th {\n",
       "        text-align: right;\n",
       "    }\n",
       "</style>\n",
       "<table border=\"1\" class=\"dataframe\">\n",
       "  <thead>\n",
       "    <tr style=\"text-align: right;\">\n",
       "      <th></th>\n",
       "      <th>title</th>\n",
       "      <th>text</th>\n",
       "      <th>date</th>\n",
       "      <th>fake_or_factual</th>\n",
       "      <th>text_without_prefixes</th>\n",
       "      <th>lower</th>\n",
       "      <th>no_stop</th>\n",
       "      <th>no_punct</th>\n",
       "      <th>tokenize</th>\n",
       "      <th>lemmatize</th>\n",
       "      <th>text_cleaned</th>\n",
       "      <th>vader_sentiment_score</th>\n",
       "      <th>vader_sentiment_label</th>\n",
       "    </tr>\n",
       "  </thead>\n",
       "  <tbody>\n",
       "    <tr>\n",
       "      <th>0</th>\n",
       "      <td>HOLLYWEIRD LIB SUSAN SARANDON Compares Muslim ...</td>\n",
       "      <td>There are two small problems with your analogy...</td>\n",
       "      <td>Dec 30, 2015</td>\n",
       "      <td>Fake News</td>\n",
       "      <td>There are two small problems with your analogy...</td>\n",
       "      <td>there are two small problems with your analogy...</td>\n",
       "      <td>two small problems analogy susan jesus muslim ...</td>\n",
       "      <td>two small problems analogy susan jesus muslim ...</td>\n",
       "      <td>[two, small, problems, analogy, susan, jesus, ...</td>\n",
       "      <td>[two, small, problem, analogy, susan, jesus, m...</td>\n",
       "      <td>[two, small, problem, analogy, susan, jesus, m...</td>\n",
       "      <td>-0.3660</td>\n",
       "      <td>negative</td>\n",
       "    </tr>\n",
       "    <tr>\n",
       "      <th>1</th>\n",
       "      <td>Elijah Cummings Called Trump Out To His Face ...</td>\n",
       "      <td>Buried in Trump s bonkers interview with New Y...</td>\n",
       "      <td>April 6, 2017</td>\n",
       "      <td>Fake News</td>\n",
       "      <td>Buried in Trump s bonkers interview with New Y...</td>\n",
       "      <td>buried in trump s bonkers interview with new y...</td>\n",
       "      <td>buried trump bonkers interview new york times ...</td>\n",
       "      <td>buried trump bonkers interview new york times ...</td>\n",
       "      <td>[buried, trump, bonkers, interview, new, york,...</td>\n",
       "      <td>[buried, trump, bonkers, interview, new, york,...</td>\n",
       "      <td>[buried, trump, bonkers, interview, new, york,...</td>\n",
       "      <td>-0.8197</td>\n",
       "      <td>negative</td>\n",
       "    </tr>\n",
       "    <tr>\n",
       "      <th>2</th>\n",
       "      <td>Hillary Clinton Says Half Her Cabinet Will Be...</td>\n",
       "      <td>Women make up over 50 percent of this country,...</td>\n",
       "      <td>April 26, 2016</td>\n",
       "      <td>Fake News</td>\n",
       "      <td>Women make up over 50 percent of this country,...</td>\n",
       "      <td>women make up over 50 percent of this country,...</td>\n",
       "      <td>women make 50 percent country, grossly underre...</td>\n",
       "      <td>women make 50 percent country grossly underrep...</td>\n",
       "      <td>[women, make, 50, percent, country, grossly, u...</td>\n",
       "      <td>[woman, make, 50, percent, country, grossly, u...</td>\n",
       "      <td>[woman, make, 50, percent, country, grossly, u...</td>\n",
       "      <td>0.9779</td>\n",
       "      <td>positive</td>\n",
       "    </tr>\n",
       "    <tr>\n",
       "      <th>3</th>\n",
       "      <td>Russian bombing of U.S.-backed forces being di...</td>\n",
       "      <td>WASHINGTON (Reuters) - U.S. Defense Secretary ...</td>\n",
       "      <td>September 18, 2017</td>\n",
       "      <td>Factual News</td>\n",
       "      <td>U.S. Defense Secretary Jim Mattis said on Mond...</td>\n",
       "      <td>u.s. defense secretary jim mattis said on mond...</td>\n",
       "      <td>u.s. defense secretary jim mattis said monday ...</td>\n",
       "      <td>us defense secretary jim mattis said monday ru...</td>\n",
       "      <td>[us, defense, secretary, jim, mattis, said, mo...</td>\n",
       "      <td>[u, defense, secretary, jim, mattis, said, mon...</td>\n",
       "      <td>[u, defense, secretary, jim, mattis, said, mon...</td>\n",
       "      <td>-0.3400</td>\n",
       "      <td>negative</td>\n",
       "    </tr>\n",
       "    <tr>\n",
       "      <th>4</th>\n",
       "      <td>Britain says window to restore Northern Irelan...</td>\n",
       "      <td>BELFAST (Reuters) - Northern Ireland s politic...</td>\n",
       "      <td>September 4, 2017</td>\n",
       "      <td>Factual News</td>\n",
       "      <td>Northern Ireland s political parties are rapid...</td>\n",
       "      <td>northern ireland s political parties are rapid...</td>\n",
       "      <td>northern ireland political parties rapidly run...</td>\n",
       "      <td>northern ireland political parties rapidly run...</td>\n",
       "      <td>[northern, ireland, political, parties, rapidl...</td>\n",
       "      <td>[northern, ireland, political, party, rapidly,...</td>\n",
       "      <td>[northern, ireland, political, party, rapidly,...</td>\n",
       "      <td>0.8590</td>\n",
       "      <td>positive</td>\n",
       "    </tr>\n",
       "  </tbody>\n",
       "</table>\n",
       "</div>"
      ],
      "text/plain": [
       "                                               title  \\\n",
       "0  HOLLYWEIRD LIB SUSAN SARANDON Compares Muslim ...   \n",
       "1   Elijah Cummings Called Trump Out To His Face ...   \n",
       "2   Hillary Clinton Says Half Her Cabinet Will Be...   \n",
       "3  Russian bombing of U.S.-backed forces being di...   \n",
       "4  Britain says window to restore Northern Irelan...   \n",
       "\n",
       "                                                text                 date  \\\n",
       "0  There are two small problems with your analogy...         Dec 30, 2015   \n",
       "1  Buried in Trump s bonkers interview with New Y...        April 6, 2017   \n",
       "2  Women make up over 50 percent of this country,...       April 26, 2016   \n",
       "3  WASHINGTON (Reuters) - U.S. Defense Secretary ...  September 18, 2017    \n",
       "4  BELFAST (Reuters) - Northern Ireland s politic...   September 4, 2017    \n",
       "\n",
       "  fake_or_factual                              text_without_prefixes  \\\n",
       "0       Fake News  There are two small problems with your analogy...   \n",
       "1       Fake News  Buried in Trump s bonkers interview with New Y...   \n",
       "2       Fake News  Women make up over 50 percent of this country,...   \n",
       "3    Factual News  U.S. Defense Secretary Jim Mattis said on Mond...   \n",
       "4    Factual News  Northern Ireland s political parties are rapid...   \n",
       "\n",
       "                                               lower  \\\n",
       "0  there are two small problems with your analogy...   \n",
       "1  buried in trump s bonkers interview with new y...   \n",
       "2  women make up over 50 percent of this country,...   \n",
       "3  u.s. defense secretary jim mattis said on mond...   \n",
       "4  northern ireland s political parties are rapid...   \n",
       "\n",
       "                                             no_stop  \\\n",
       "0  two small problems analogy susan jesus muslim ...   \n",
       "1  buried trump bonkers interview new york times ...   \n",
       "2  women make 50 percent country, grossly underre...   \n",
       "3  u.s. defense secretary jim mattis said monday ...   \n",
       "4  northern ireland political parties rapidly run...   \n",
       "\n",
       "                                            no_punct  \\\n",
       "0  two small problems analogy susan jesus muslim ...   \n",
       "1  buried trump bonkers interview new york times ...   \n",
       "2  women make 50 percent country grossly underrep...   \n",
       "3  us defense secretary jim mattis said monday ru...   \n",
       "4  northern ireland political parties rapidly run...   \n",
       "\n",
       "                                            tokenize  \\\n",
       "0  [two, small, problems, analogy, susan, jesus, ...   \n",
       "1  [buried, trump, bonkers, interview, new, york,...   \n",
       "2  [women, make, 50, percent, country, grossly, u...   \n",
       "3  [us, defense, secretary, jim, mattis, said, mo...   \n",
       "4  [northern, ireland, political, parties, rapidl...   \n",
       "\n",
       "                                           lemmatize  \\\n",
       "0  [two, small, problem, analogy, susan, jesus, m...   \n",
       "1  [buried, trump, bonkers, interview, new, york,...   \n",
       "2  [woman, make, 50, percent, country, grossly, u...   \n",
       "3  [u, defense, secretary, jim, mattis, said, mon...   \n",
       "4  [northern, ireland, political, party, rapidly,...   \n",
       "\n",
       "                                        text_cleaned  vader_sentiment_score  \\\n",
       "0  [two, small, problem, analogy, susan, jesus, m...                -0.3660   \n",
       "1  [buried, trump, bonkers, interview, new, york,...                -0.8197   \n",
       "2  [woman, make, 50, percent, country, grossly, u...                 0.9779   \n",
       "3  [u, defense, secretary, jim, mattis, said, mon...                -0.3400   \n",
       "4  [northern, ireland, political, party, rapidly,...                 0.8590   \n",
       "\n",
       "  vader_sentiment_label  \n",
       "0              negative  \n",
       "1              negative  \n",
       "2              positive  \n",
       "3              negative  \n",
       "4              positive  "
      ]
     },
     "execution_count": 62,
     "metadata": {},
     "output_type": "execute_result"
    }
   ],
   "source": [
    "data.head()"
   ]
  },
  {
   "cell_type": "code",
   "execution_count": 63,
   "id": "1f9b6803-62a6-4436-966c-7acbefeb1c69",
   "metadata": {},
   "outputs": [],
   "source": [
    "x = [','.join(map(str, l)) for l in data['text_cleaned']]\n",
    "y = data['fake_or_factual']"
   ]
  },
  {
   "cell_type": "code",
   "execution_count": 64,
   "id": "4bf547cb-56e1-4f0f-afad-c0da8f90b934",
   "metadata": {},
   "outputs": [],
   "source": [
    "countvec = CountVectorizer()"
   ]
  },
  {
   "cell_type": "code",
   "execution_count": 65,
   "id": "17abd8ad-14cd-40c2-bf23-19e3443b8e07",
   "metadata": {},
   "outputs": [],
   "source": [
    "countvec_fit = countvec.fit_transform(x)"
   ]
  },
  {
   "cell_type": "code",
   "execution_count": 66,
   "id": "47674ac7-ba0e-4595-a0f6-0660eb3aac49",
   "metadata": {},
   "outputs": [],
   "source": [
    "bag_of_words = pd.DataFrame(countvec_fit.toarray(), columns=countvec.get_feature_names_out())"
   ]
  },
  {
   "cell_type": "code",
   "execution_count": 67,
   "id": "c469bfd4-6531-47de-8692-c8cce8d28802",
   "metadata": {},
   "outputs": [],
   "source": [
    "x_train, x_test, y_train, y_test = train_test_split(bag_of_words, y, test_size=0.3)"
   ]
  },
  {
   "cell_type": "code",
   "execution_count": 68,
   "id": "f2327352-6e4b-4de4-b705-35a20b8454ee",
   "metadata": {},
   "outputs": [],
   "source": [
    "lr = LogisticRegression()\n",
    "lr1 = lr.fit(x_train, y_train)\n",
    "y_pred_lr = lr.predict(x_test)"
   ]
  },
  {
   "cell_type": "code",
   "execution_count": 69,
   "id": "ccc5b3cf-cfda-4ffb-b1c0-cc9e580ae913",
   "metadata": {},
   "outputs": [
    {
     "data": {
      "text/plain": [
       "0.9333333333333333"
      ]
     },
     "execution_count": 69,
     "metadata": {},
     "output_type": "execute_result"
    }
   ],
   "source": [
    "accuracy_score(y_test, y_pred_lr)"
   ]
  },
  {
   "cell_type": "code",
   "execution_count": 70,
   "id": "d558c949-95fc-47ad-ae14-351f949196b6",
   "metadata": {
    "scrolled": true
   },
   "outputs": [
    {
     "name": "stdout",
     "output_type": "stream",
     "text": [
      "              precision    recall  f1-score   support\n",
      "\n",
      "Factual News       0.91      0.97      0.94        30\n",
      "   Fake News       0.96      0.90      0.93        30\n",
      "\n",
      "    accuracy                           0.93        60\n",
      "   macro avg       0.94      0.93      0.93        60\n",
      "weighted avg       0.94      0.93      0.93        60\n",
      "\n"
     ]
    }
   ],
   "source": [
    "print(classification_report(y_test, y_pred_lr))"
   ]
  },
  {
   "cell_type": "code",
   "execution_count": 71,
   "id": "8d6e739e-38cf-4c01-b393-360afd200ce0",
   "metadata": {},
   "outputs": [],
   "source": [
    "svm = SGDClassifier()\n",
    "svm_fit = svm.fit(x_train, y_train)\n",
    "y_pred_svm = svm.predict(x_test)"
   ]
  },
  {
   "cell_type": "code",
   "execution_count": 72,
   "id": "607ddb86-1df5-4402-a9be-dc91914155c8",
   "metadata": {},
   "outputs": [
    {
     "data": {
      "text/plain": [
       "0.9"
      ]
     },
     "execution_count": 72,
     "metadata": {},
     "output_type": "execute_result"
    }
   ],
   "source": [
    "accuracy_score(y_test, y_pred_svm)"
   ]
  },
  {
   "cell_type": "code",
   "execution_count": 73,
   "id": "21b0f0b9-8f94-43b9-bdac-d39d31792804",
   "metadata": {
    "scrolled": true
   },
   "outputs": [
    {
     "name": "stdout",
     "output_type": "stream",
     "text": [
      "              precision    recall  f1-score   support\n",
      "\n",
      "Factual News       0.88      0.93      0.90        30\n",
      "   Fake News       0.93      0.87      0.90        30\n",
      "\n",
      "    accuracy                           0.90        60\n",
      "   macro avg       0.90      0.90      0.90        60\n",
      "weighted avg       0.90      0.90      0.90        60\n",
      "\n"
     ]
    }
   ],
   "source": [
    "print(classification_report(y_test, y_pred_svm))"
   ]
  },
  {
   "cell_type": "markdown",
   "id": "bf8a6890-e2bf-41c8-a154-95908f7c685a",
   "metadata": {},
   "source": [
    "## Using a TF-IDF Vectorizer instead of a CountVectorizer\n",
    "\n",
    "i.e., using TF-IDF instead of bag of words"
   ]
  },
  {
   "cell_type": "code",
   "execution_count": 74,
   "id": "5f1d4a19-d9d3-408b-a88d-ac2f0b56e40b",
   "metadata": {},
   "outputs": [],
   "source": [
    "tfidfvec = TfidfVectorizer()"
   ]
  },
  {
   "cell_type": "code",
   "execution_count": 75,
   "id": "c30a90dc-dd01-4827-b6b1-b86f90fe29c3",
   "metadata": {},
   "outputs": [],
   "source": [
    "tfidfvec_fit = tfidfvec.fit_transform(x)"
   ]
  },
  {
   "cell_type": "code",
   "execution_count": 76,
   "id": "e31c1547-d44f-4509-b0fa-2862fecf45fb",
   "metadata": {},
   "outputs": [],
   "source": [
    "word_matrix = pd.DataFrame(tfidfvec_fit.toarray(), columns=tfidfvec.get_feature_names_out())"
   ]
  },
  {
   "cell_type": "code",
   "execution_count": 77,
   "id": "555a46bb-5c91-4f90-880f-116da6e883a2",
   "metadata": {},
   "outputs": [
    {
     "data": {
      "text/html": [
       "<div>\n",
       "<style scoped>\n",
       "    .dataframe tbody tr th:only-of-type {\n",
       "        vertical-align: middle;\n",
       "    }\n",
       "\n",
       "    .dataframe tbody tr th {\n",
       "        vertical-align: top;\n",
       "    }\n",
       "\n",
       "    .dataframe thead th {\n",
       "        text-align: right;\n",
       "    }\n",
       "</style>\n",
       "<table border=\"1\" class=\"dataframe\">\n",
       "  <thead>\n",
       "    <tr style=\"text-align: right;\">\n",
       "      <th></th>\n",
       "      <th>01</th>\n",
       "      <th>03</th>\n",
       "      <th>05</th>\n",
       "      <th>08441</th>\n",
       "      <th>10</th>\n",
       "      <th>100</th>\n",
       "      <th>1000</th>\n",
       "      <th>10000</th>\n",
       "      <th>1000000000000000</th>\n",
       "      <th>1002</th>\n",
       "      <th>...</th>\n",
       "      <th>zimbabwean</th>\n",
       "      <th>zimdars</th>\n",
       "      <th>zimmerman</th>\n",
       "      <th>zina</th>\n",
       "      <th>zionism</th>\n",
       "      <th>zoe</th>\n",
       "      <th>zone</th>\n",
       "      <th>zoom</th>\n",
       "      <th>zouka</th>\n",
       "      <th>zuckerberg</th>\n",
       "    </tr>\n",
       "  </thead>\n",
       "  <tbody>\n",
       "    <tr>\n",
       "      <th>0</th>\n",
       "      <td>0.0</td>\n",
       "      <td>0.0</td>\n",
       "      <td>0.0</td>\n",
       "      <td>0.0</td>\n",
       "      <td>0.0</td>\n",
       "      <td>0.0</td>\n",
       "      <td>0.0</td>\n",
       "      <td>0.0</td>\n",
       "      <td>0.0</td>\n",
       "      <td>0.0</td>\n",
       "      <td>...</td>\n",
       "      <td>0.0</td>\n",
       "      <td>0.0</td>\n",
       "      <td>0.000000</td>\n",
       "      <td>0.0</td>\n",
       "      <td>0.0</td>\n",
       "      <td>0.0</td>\n",
       "      <td>0.0</td>\n",
       "      <td>0.0</td>\n",
       "      <td>0.0</td>\n",
       "      <td>0.0</td>\n",
       "    </tr>\n",
       "    <tr>\n",
       "      <th>1</th>\n",
       "      <td>0.0</td>\n",
       "      <td>0.0</td>\n",
       "      <td>0.0</td>\n",
       "      <td>0.0</td>\n",
       "      <td>0.0</td>\n",
       "      <td>0.0</td>\n",
       "      <td>0.0</td>\n",
       "      <td>0.0</td>\n",
       "      <td>0.0</td>\n",
       "      <td>0.0</td>\n",
       "      <td>...</td>\n",
       "      <td>0.0</td>\n",
       "      <td>0.0</td>\n",
       "      <td>0.000000</td>\n",
       "      <td>0.0</td>\n",
       "      <td>0.0</td>\n",
       "      <td>0.0</td>\n",
       "      <td>0.0</td>\n",
       "      <td>0.0</td>\n",
       "      <td>0.0</td>\n",
       "      <td>0.0</td>\n",
       "    </tr>\n",
       "    <tr>\n",
       "      <th>2</th>\n",
       "      <td>0.0</td>\n",
       "      <td>0.0</td>\n",
       "      <td>0.0</td>\n",
       "      <td>0.0</td>\n",
       "      <td>0.0</td>\n",
       "      <td>0.0</td>\n",
       "      <td>0.0</td>\n",
       "      <td>0.0</td>\n",
       "      <td>0.0</td>\n",
       "      <td>0.0</td>\n",
       "      <td>...</td>\n",
       "      <td>0.0</td>\n",
       "      <td>0.0</td>\n",
       "      <td>0.000000</td>\n",
       "      <td>0.0</td>\n",
       "      <td>0.0</td>\n",
       "      <td>0.0</td>\n",
       "      <td>0.0</td>\n",
       "      <td>0.0</td>\n",
       "      <td>0.0</td>\n",
       "      <td>0.0</td>\n",
       "    </tr>\n",
       "    <tr>\n",
       "      <th>3</th>\n",
       "      <td>0.0</td>\n",
       "      <td>0.0</td>\n",
       "      <td>0.0</td>\n",
       "      <td>0.0</td>\n",
       "      <td>0.0</td>\n",
       "      <td>0.0</td>\n",
       "      <td>0.0</td>\n",
       "      <td>0.0</td>\n",
       "      <td>0.0</td>\n",
       "      <td>0.0</td>\n",
       "      <td>...</td>\n",
       "      <td>0.0</td>\n",
       "      <td>0.0</td>\n",
       "      <td>0.000000</td>\n",
       "      <td>0.0</td>\n",
       "      <td>0.0</td>\n",
       "      <td>0.0</td>\n",
       "      <td>0.0</td>\n",
       "      <td>0.0</td>\n",
       "      <td>0.0</td>\n",
       "      <td>0.0</td>\n",
       "    </tr>\n",
       "    <tr>\n",
       "      <th>4</th>\n",
       "      <td>0.0</td>\n",
       "      <td>0.0</td>\n",
       "      <td>0.0</td>\n",
       "      <td>0.0</td>\n",
       "      <td>0.0</td>\n",
       "      <td>0.0</td>\n",
       "      <td>0.0</td>\n",
       "      <td>0.0</td>\n",
       "      <td>0.0</td>\n",
       "      <td>0.0</td>\n",
       "      <td>...</td>\n",
       "      <td>0.0</td>\n",
       "      <td>0.0</td>\n",
       "      <td>0.000000</td>\n",
       "      <td>0.0</td>\n",
       "      <td>0.0</td>\n",
       "      <td>0.0</td>\n",
       "      <td>0.0</td>\n",
       "      <td>0.0</td>\n",
       "      <td>0.0</td>\n",
       "      <td>0.0</td>\n",
       "    </tr>\n",
       "    <tr>\n",
       "      <th>...</th>\n",
       "      <td>...</td>\n",
       "      <td>...</td>\n",
       "      <td>...</td>\n",
       "      <td>...</td>\n",
       "      <td>...</td>\n",
       "      <td>...</td>\n",
       "      <td>...</td>\n",
       "      <td>...</td>\n",
       "      <td>...</td>\n",
       "      <td>...</td>\n",
       "      <td>...</td>\n",
       "      <td>...</td>\n",
       "      <td>...</td>\n",
       "      <td>...</td>\n",
       "      <td>...</td>\n",
       "      <td>...</td>\n",
       "      <td>...</td>\n",
       "      <td>...</td>\n",
       "      <td>...</td>\n",
       "      <td>...</td>\n",
       "      <td>...</td>\n",
       "    </tr>\n",
       "    <tr>\n",
       "      <th>193</th>\n",
       "      <td>0.0</td>\n",
       "      <td>0.0</td>\n",
       "      <td>0.0</td>\n",
       "      <td>0.0</td>\n",
       "      <td>0.0</td>\n",
       "      <td>0.0</td>\n",
       "      <td>0.0</td>\n",
       "      <td>0.0</td>\n",
       "      <td>0.0</td>\n",
       "      <td>0.0</td>\n",
       "      <td>...</td>\n",
       "      <td>0.0</td>\n",
       "      <td>0.0</td>\n",
       "      <td>0.000000</td>\n",
       "      <td>0.0</td>\n",
       "      <td>0.0</td>\n",
       "      <td>0.0</td>\n",
       "      <td>0.0</td>\n",
       "      <td>0.0</td>\n",
       "      <td>0.0</td>\n",
       "      <td>0.0</td>\n",
       "    </tr>\n",
       "    <tr>\n",
       "      <th>194</th>\n",
       "      <td>0.0</td>\n",
       "      <td>0.0</td>\n",
       "      <td>0.0</td>\n",
       "      <td>0.0</td>\n",
       "      <td>0.0</td>\n",
       "      <td>0.0</td>\n",
       "      <td>0.0</td>\n",
       "      <td>0.0</td>\n",
       "      <td>0.0</td>\n",
       "      <td>0.0</td>\n",
       "      <td>...</td>\n",
       "      <td>0.0</td>\n",
       "      <td>0.0</td>\n",
       "      <td>0.070631</td>\n",
       "      <td>0.0</td>\n",
       "      <td>0.0</td>\n",
       "      <td>0.0</td>\n",
       "      <td>0.0</td>\n",
       "      <td>0.0</td>\n",
       "      <td>0.0</td>\n",
       "      <td>0.0</td>\n",
       "    </tr>\n",
       "    <tr>\n",
       "      <th>195</th>\n",
       "      <td>0.0</td>\n",
       "      <td>0.0</td>\n",
       "      <td>0.0</td>\n",
       "      <td>0.0</td>\n",
       "      <td>0.0</td>\n",
       "      <td>0.0</td>\n",
       "      <td>0.0</td>\n",
       "      <td>0.0</td>\n",
       "      <td>0.0</td>\n",
       "      <td>0.0</td>\n",
       "      <td>...</td>\n",
       "      <td>0.0</td>\n",
       "      <td>0.0</td>\n",
       "      <td>0.000000</td>\n",
       "      <td>0.0</td>\n",
       "      <td>0.0</td>\n",
       "      <td>0.0</td>\n",
       "      <td>0.0</td>\n",
       "      <td>0.0</td>\n",
       "      <td>0.0</td>\n",
       "      <td>0.0</td>\n",
       "    </tr>\n",
       "    <tr>\n",
       "      <th>196</th>\n",
       "      <td>0.0</td>\n",
       "      <td>0.0</td>\n",
       "      <td>0.0</td>\n",
       "      <td>0.0</td>\n",
       "      <td>0.0</td>\n",
       "      <td>0.0</td>\n",
       "      <td>0.0</td>\n",
       "      <td>0.0</td>\n",
       "      <td>0.0</td>\n",
       "      <td>0.0</td>\n",
       "      <td>...</td>\n",
       "      <td>0.0</td>\n",
       "      <td>0.0</td>\n",
       "      <td>0.000000</td>\n",
       "      <td>0.0</td>\n",
       "      <td>0.0</td>\n",
       "      <td>0.0</td>\n",
       "      <td>0.0</td>\n",
       "      <td>0.0</td>\n",
       "      <td>0.0</td>\n",
       "      <td>0.0</td>\n",
       "    </tr>\n",
       "    <tr>\n",
       "      <th>197</th>\n",
       "      <td>0.0</td>\n",
       "      <td>0.0</td>\n",
       "      <td>0.0</td>\n",
       "      <td>0.0</td>\n",
       "      <td>0.0</td>\n",
       "      <td>0.0</td>\n",
       "      <td>0.0</td>\n",
       "      <td>0.0</td>\n",
       "      <td>0.0</td>\n",
       "      <td>0.0</td>\n",
       "      <td>...</td>\n",
       "      <td>0.0</td>\n",
       "      <td>0.0</td>\n",
       "      <td>0.000000</td>\n",
       "      <td>0.0</td>\n",
       "      <td>0.0</td>\n",
       "      <td>0.0</td>\n",
       "      <td>0.0</td>\n",
       "      <td>0.0</td>\n",
       "      <td>0.0</td>\n",
       "      <td>0.0</td>\n",
       "    </tr>\n",
       "  </tbody>\n",
       "</table>\n",
       "<p>198 rows × 9136 columns</p>\n",
       "</div>"
      ],
      "text/plain": [
       "      01   03   05  08441   10  100  1000  10000  1000000000000000  1002  ...  \\\n",
       "0    0.0  0.0  0.0    0.0  0.0  0.0   0.0    0.0               0.0   0.0  ...   \n",
       "1    0.0  0.0  0.0    0.0  0.0  0.0   0.0    0.0               0.0   0.0  ...   \n",
       "2    0.0  0.0  0.0    0.0  0.0  0.0   0.0    0.0               0.0   0.0  ...   \n",
       "3    0.0  0.0  0.0    0.0  0.0  0.0   0.0    0.0               0.0   0.0  ...   \n",
       "4    0.0  0.0  0.0    0.0  0.0  0.0   0.0    0.0               0.0   0.0  ...   \n",
       "..   ...  ...  ...    ...  ...  ...   ...    ...               ...   ...  ...   \n",
       "193  0.0  0.0  0.0    0.0  0.0  0.0   0.0    0.0               0.0   0.0  ...   \n",
       "194  0.0  0.0  0.0    0.0  0.0  0.0   0.0    0.0               0.0   0.0  ...   \n",
       "195  0.0  0.0  0.0    0.0  0.0  0.0   0.0    0.0               0.0   0.0  ...   \n",
       "196  0.0  0.0  0.0    0.0  0.0  0.0   0.0    0.0               0.0   0.0  ...   \n",
       "197  0.0  0.0  0.0    0.0  0.0  0.0   0.0    0.0               0.0   0.0  ...   \n",
       "\n",
       "     zimbabwean  zimdars  zimmerman  zina  zionism  zoe  zone  zoom  zouka  \\\n",
       "0           0.0      0.0   0.000000   0.0      0.0  0.0   0.0   0.0    0.0   \n",
       "1           0.0      0.0   0.000000   0.0      0.0  0.0   0.0   0.0    0.0   \n",
       "2           0.0      0.0   0.000000   0.0      0.0  0.0   0.0   0.0    0.0   \n",
       "3           0.0      0.0   0.000000   0.0      0.0  0.0   0.0   0.0    0.0   \n",
       "4           0.0      0.0   0.000000   0.0      0.0  0.0   0.0   0.0    0.0   \n",
       "..          ...      ...        ...   ...      ...  ...   ...   ...    ...   \n",
       "193         0.0      0.0   0.000000   0.0      0.0  0.0   0.0   0.0    0.0   \n",
       "194         0.0      0.0   0.070631   0.0      0.0  0.0   0.0   0.0    0.0   \n",
       "195         0.0      0.0   0.000000   0.0      0.0  0.0   0.0   0.0    0.0   \n",
       "196         0.0      0.0   0.000000   0.0      0.0  0.0   0.0   0.0    0.0   \n",
       "197         0.0      0.0   0.000000   0.0      0.0  0.0   0.0   0.0    0.0   \n",
       "\n",
       "     zuckerberg  \n",
       "0           0.0  \n",
       "1           0.0  \n",
       "2           0.0  \n",
       "3           0.0  \n",
       "4           0.0  \n",
       "..          ...  \n",
       "193         0.0  \n",
       "194         0.0  \n",
       "195         0.0  \n",
       "196         0.0  \n",
       "197         0.0  \n",
       "\n",
       "[198 rows x 9136 columns]"
      ]
     },
     "execution_count": 77,
     "metadata": {},
     "output_type": "execute_result"
    }
   ],
   "source": [
    "word_matrix"
   ]
  },
  {
   "cell_type": "code",
   "execution_count": 78,
   "id": "3b3bf0a5-6f02-45d6-8800-0cf7c14dffb9",
   "metadata": {},
   "outputs": [],
   "source": [
    "x_train, x_test, y_train, y_test = train_test_split(word_matrix, y, test_size=0.3)"
   ]
  },
  {
   "cell_type": "code",
   "execution_count": 79,
   "id": "f3c67c03-a83c-4b1a-a30f-8a8095c5626e",
   "metadata": {},
   "outputs": [],
   "source": [
    "lr = LogisticRegression()\n",
    "lr1 = lr.fit(x_train, y_train)\n",
    "y_pred_lr = lr.predict(x_test)"
   ]
  },
  {
   "cell_type": "code",
   "execution_count": 80,
   "id": "2dfeb1e8-0286-450a-bec6-7cac5435c262",
   "metadata": {},
   "outputs": [
    {
     "data": {
      "text/plain": [
       "0.9"
      ]
     },
     "execution_count": 80,
     "metadata": {},
     "output_type": "execute_result"
    }
   ],
   "source": [
    "accuracy_score(y_test, y_pred_lr)"
   ]
  },
  {
   "cell_type": "code",
   "execution_count": 81,
   "id": "052c432e-64e0-4105-94d9-d681ae058cc6",
   "metadata": {
    "scrolled": true
   },
   "outputs": [
    {
     "name": "stdout",
     "output_type": "stream",
     "text": [
      "              precision    recall  f1-score   support\n",
      "\n",
      "Factual News       0.97      0.86      0.91        35\n",
      "   Fake News       0.83      0.96      0.89        25\n",
      "\n",
      "    accuracy                           0.90        60\n",
      "   macro avg       0.90      0.91      0.90        60\n",
      "weighted avg       0.91      0.90      0.90        60\n",
      "\n"
     ]
    }
   ],
   "source": [
    "print(classification_report(y_test, y_pred_lr))"
   ]
  },
  {
   "cell_type": "code",
   "execution_count": 82,
   "id": "da55f46e-e6ae-40fd-9c91-8496390e00b1",
   "metadata": {},
   "outputs": [],
   "source": [
    "svm = SGDClassifier()\n",
    "svm_fit = svm.fit(x_train, y_train)\n",
    "y_pred_svm = svm.predict(x_test)"
   ]
  },
  {
   "cell_type": "code",
   "execution_count": 83,
   "id": "dd0c7bd9-5c96-43d1-8aa0-5de6e8151e94",
   "metadata": {},
   "outputs": [
    {
     "data": {
      "text/plain": [
       "0.9166666666666666"
      ]
     },
     "execution_count": 83,
     "metadata": {},
     "output_type": "execute_result"
    }
   ],
   "source": [
    "accuracy_score(y_test, y_pred_svm)"
   ]
  },
  {
   "cell_type": "code",
   "execution_count": 84,
   "id": "384451ec-aaf3-4b46-92e1-a091429a25d9",
   "metadata": {
    "scrolled": true
   },
   "outputs": [
    {
     "name": "stdout",
     "output_type": "stream",
     "text": [
      "              precision    recall  f1-score   support\n",
      "\n",
      "Factual News       0.89      0.97      0.93        35\n",
      "   Fake News       0.95      0.84      0.89        25\n",
      "\n",
      "    accuracy                           0.92        60\n",
      "   macro avg       0.92      0.91      0.91        60\n",
      "weighted avg       0.92      0.92      0.92        60\n",
      "\n"
     ]
    }
   ],
   "source": [
    "print(classification_report(y_test, y_pred_svm))"
   ]
  },
  {
   "cell_type": "code",
   "execution_count": null,
   "id": "b95e3140-473a-46d1-a4e1-0117920bed8b",
   "metadata": {},
   "outputs": [],
   "source": []
  }
 ],
 "metadata": {
  "kernelspec": {
   "display_name": "Python 3 (ipykernel)",
   "language": "python",
   "name": "python3"
  },
  "language_info": {
   "codemirror_mode": {
    "name": "ipython",
    "version": 3
   },
   "file_extension": ".py",
   "mimetype": "text/x-python",
   "name": "python",
   "nbconvert_exporter": "python",
   "pygments_lexer": "ipython3",
   "version": "3.12.0"
  }
 },
 "nbformat": 4,
 "nbformat_minor": 5
}
